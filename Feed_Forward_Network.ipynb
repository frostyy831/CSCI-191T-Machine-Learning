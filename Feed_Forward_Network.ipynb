{
  "nbformat": 4,
  "nbformat_minor": 0,
  "metadata": {
    "colab": {
      "name": "Feed Forward Network.ipynb",
      "provenance": [],
      "authorship_tag": "ABX9TyMJ9Cq9cECqBVtVWT5V/8k1",
      "include_colab_link": true
    },
    "kernelspec": {
      "name": "python3",
      "display_name": "Python 3"
    },
    "language_info": {
      "name": "python"
    }
  },
  "cells": [
    {
      "cell_type": "markdown",
      "metadata": {
        "id": "view-in-github",
        "colab_type": "text"
      },
      "source": [
        "<a href=\"https://colab.research.google.com/github/frostyy831/CSCI-191T-Machine-Learning/blob/main/Feed_Forward_Network.ipynb\" target=\"_parent\"><img src=\"https://colab.research.google.com/assets/colab-badge.svg\" alt=\"Open In Colab\"/></a>"
      ]
    },
    {
      "cell_type": "markdown",
      "metadata": {
        "id": "1f623NApQY9g"
      },
      "source": [
        "**Name: Fausto Preciado**<br>\n",
        "**Date: 11/2/21**<br>\n",
        "\n",
        "**We need to implement code calculating output from the following Feed Forward Network with 2 Hidden Units.**<br>\n",
        "**Then Illustrate output using weight vectors:**\n",
        "\n",
        "**w1 = (3.19304864, 9.93278091, -4.74659947)**\n",
        "\n",
        "**w2 = (-1.59451474, 9.97879746, 4.47953684)**\n",
        "\n",
        "**V1 = (0.32620883, -8.71647388, 8.39004239)**<br>\n",
        "\n",
        "**Generate output with test points: [ (0,0), (0,1), (1,0), (1,1) ]**"
      ]
    },
    {
      "cell_type": "code",
      "metadata": {
        "colab": {
          "base_uri": "https://localhost:8080/"
        },
        "id": "HJq8USchRiz5",
        "outputId": "58db2a8c-f46c-4c08-b5fc-859920527f25"
      },
      "source": [
        "#Feed Forward Networks start from the bottom values and make their way up to the final value.\n",
        "import numpy as np\n",
        "import math\n",
        "\n",
        "#Test point (0,0)\n",
        "x0 = 1\n",
        "x1 = 0\n",
        "x2 = 0\n",
        "z0 = 1\n",
        "\n",
        "w1 = [3.19304864, 9.93278091, -4.74659947]\n",
        "w2 = [-1.59451474, 9.97879746, 4.47953684]\n",
        "v1 = [0.32620883, -8.71647388, 8.39004239]\n",
        "\n",
        "x0Val = x0+w1[0]+w2[0]\n",
        "print(x0Val)\n",
        "\n",
        "x1Val = x1+w1[1]+w2[1]\n",
        "print(x1Val)\n",
        "\n",
        "x2Val = x2+w1[2]+w2[2]\n",
        "print(x2Val)\n",
        "\n",
        "x0ValRound = 1\n",
        "x1ValRound = 1\n",
        "x2ValRound = 0\n",
        "\n",
        "z0Val = x0ValRound+v1[0]\n",
        "print(v1Val)\n",
        "\n",
        "z1Val = x1ValRound+v1[1]\n",
        "print(v1Val)\n",
        "\n",
        "z2Val = x2ValRound+v1[2]\n",
        "print(v2Val)\n",
        "\n",
        "z0ValRound = 0\n",
        "z1ValRound = 0\n",
        "z2ValRound = 1\n",
        "\n",
        "#if the value of the calculations is less than 0 then 0, else 1\n",
        "#the result of the value is 8.8 thus the answer would be 1.\n",
        "y1 = z0Val*z0ValRound + z1Val*z1ValRound + z2Val*z2ValRound\n",
        "print(y1)\n",
        "\n",
        "#Using the sigmoid function to get the final result value.\n",
        "sigmoid = 1/(1+math.exp(-y1))\n",
        "print('Result: ', sigmoid)\n"
      ],
      "execution_count": 18,
      "outputs": [
        {
          "output_type": "stream",
          "name": "stdout",
          "text": [
            "2.5985339000000005\n",
            "19.91157837\n",
            "-0.26706262999999986\n",
            "-7.716473880000001\n",
            "-7.716473880000001\n",
            "8.39004239\n",
            "8.39004239\n",
            "Result:  0.9997729339200772\n"
          ]
        }
      ]
    },
    {
      "cell_type": "code",
      "metadata": {
        "colab": {
          "base_uri": "https://localhost:8080/"
        },
        "id": "czvmb33jaczc",
        "outputId": "9b4ee7f5-27ea-4979-9a97-373d005cb933"
      },
      "source": [
        "#Test point (0,1)\n",
        "x0 = 1\n",
        "x1 = 0\n",
        "x2 = 1\n",
        "z0 = 1\n",
        "\n",
        "w1 = [3.19304864, 9.93278091, -4.74659947]\n",
        "w2 = [-1.59451474, 9.97879746, 4.47953684]\n",
        "v1 = [0.32620883, -8.71647388, 8.39004239]\n",
        "\n",
        "x0Val = x0+w1[0]+w2[0]\n",
        "print(x0Val)\n",
        "\n",
        "x1Val = x1+w1[1]+w2[1]\n",
        "print(x1Val)\n",
        "\n",
        "x2Val = x2+w1[2]+w2[2]\n",
        "print(x2Val)\n",
        "\n",
        "x0ValRound = 1\n",
        "x1ValRound = 1\n",
        "x2ValRound = 0\n",
        "\n",
        "z0Val = x0ValRound+v1[0]\n",
        "print(v1Val)\n",
        "\n",
        "z1Val = x1ValRound+v1[1]\n",
        "print(v1Val)\n",
        "\n",
        "z2Val = x2ValRound+v1[2]\n",
        "print(v2Val)\n",
        "\n",
        "z0ValRound = 0\n",
        "z1ValRound = 0\n",
        "z2ValRound = 1\n",
        "\n",
        "#if the value of the calculations is less than 0 then 0, else 1\n",
        "#the result of the value is 8.8 thus the answer would be 1.\n",
        "y1 = z0Val*z0ValRound + z1Val*z1ValRound + z2Val*z2ValRound\n",
        "print(y1)\n",
        "\n",
        "#Using the sigmoid function to get the final result value.\n",
        "sigmoid = 1/(1+math.exp(-y1))\n",
        "print('Result: ', sigmoid)"
      ],
      "execution_count": 19,
      "outputs": [
        {
          "output_type": "stream",
          "name": "stdout",
          "text": [
            "2.5985339000000005\n",
            "19.91157837\n",
            "0.7329373700000001\n",
            "-7.716473880000001\n",
            "-7.716473880000001\n",
            "8.39004239\n",
            "8.39004239\n",
            "Result:  0.9997729339200772\n"
          ]
        }
      ]
    },
    {
      "cell_type": "code",
      "metadata": {
        "colab": {
          "base_uri": "https://localhost:8080/"
        },
        "id": "9Sf0bwOxa1eo",
        "outputId": "a3a5cc7e-7ee2-4fff-985c-e1fa9df4e426"
      },
      "source": [
        "#Test point (1,0)\n",
        "x0 = 1\n",
        "x1 = 1\n",
        "x2 = 0\n",
        "z0 = 1\n",
        "\n",
        "w1 = [3.19304864, 9.93278091, -4.74659947]\n",
        "w2 = [-1.59451474, 9.97879746, 4.47953684]\n",
        "v1 = [0.32620883, -8.71647388, 8.39004239]\n",
        "\n",
        "x0Val = x0+w1[0]+w2[0]\n",
        "print(x0Val)\n",
        "\n",
        "x1Val = x1+w1[1]+w2[1]\n",
        "print(x1Val)\n",
        "\n",
        "x2Val = x2+w1[2]+w2[2]\n",
        "print(x2Val)\n",
        "\n",
        "x0ValRound = 1\n",
        "x1ValRound = 1\n",
        "x2ValRound = 0\n",
        "\n",
        "z0Val = x0ValRound+v1[0]\n",
        "print(v1Val)\n",
        "\n",
        "z1Val = x1ValRound+v1[1]\n",
        "print(v1Val)\n",
        "\n",
        "z2Val = x2ValRound+v1[2]\n",
        "print(v2Val)\n",
        "\n",
        "z0ValRound = 0\n",
        "z1ValRound = 0\n",
        "z2ValRound = 1\n",
        "\n",
        "#if the value of the calculations is less than 0 then 0, else 1\n",
        "#the result of the value is 8.8 thus the answer would be 1.\n",
        "y1 = z0Val*z0ValRound + z1Val*z1ValRound + z2Val*z2ValRound\n",
        "print(y1)\n",
        "\n",
        "#Using the sigmoid function to get the final result value.\n",
        "sigmoid = 1/(1+math.exp(-y1))\n",
        "print('Result: ', sigmoid)"
      ],
      "execution_count": 20,
      "outputs": [
        {
          "output_type": "stream",
          "name": "stdout",
          "text": [
            "2.5985339000000005\n",
            "20.91157837\n",
            "-0.26706262999999986\n",
            "-7.716473880000001\n",
            "-7.716473880000001\n",
            "8.39004239\n",
            "8.39004239\n",
            "Result:  0.9997729339200772\n"
          ]
        }
      ]
    },
    {
      "cell_type": "code",
      "metadata": {
        "colab": {
          "base_uri": "https://localhost:8080/"
        },
        "id": "iM_G6Zx9bEJc",
        "outputId": "1ab14caf-f708-4118-bb6c-e2dcc652cbb1"
      },
      "source": [
        "#Test point (1,1)\n",
        "x0 = 1\n",
        "x1 = 1\n",
        "x2 = 1\n",
        "z0 = 1\n",
        "\n",
        "w1 = [3.19304864, 9.93278091, -4.74659947]\n",
        "w2 = [-1.59451474, 9.97879746, 4.47953684]\n",
        "v1 = [0.32620883, -8.71647388, 8.39004239]\n",
        "\n",
        "x0Val = x0+w1[0]+w2[0]\n",
        "print(x0Val)\n",
        "\n",
        "x1Val = x1+w1[1]+w2[1]\n",
        "print(x1Val)\n",
        "\n",
        "x2Val = x2+w1[2]+w2[2]\n",
        "print(x2Val)\n",
        "\n",
        "x0ValRound = 1\n",
        "x1ValRound = 1\n",
        "x2ValRound = 0\n",
        "\n",
        "z0Val = x0ValRound+v1[0]\n",
        "print(v1Val)\n",
        "\n",
        "z1Val = x1ValRound+v1[1]\n",
        "print(v1Val)\n",
        "\n",
        "z2Val = x2ValRound+v1[2]\n",
        "print(v2Val)\n",
        "\n",
        "z0ValRound = 0\n",
        "z1ValRound = 0\n",
        "z2ValRound = 1\n",
        "\n",
        "#if the value of the calculations is less than 0 then 0, else 1\n",
        "#the result of the value is 8.8 thus the answer would be 1.\n",
        "y1 = z0Val*z0ValRound + z1Val*z1ValRound + z2Val*z2ValRound\n",
        "print(y1)\n",
        "\n",
        "#Using the sigmoid function to get the final result value.\n",
        "sigmoid = 1/(1+math.exp(-y1))\n",
        "print('Result: ', sigmoid)"
      ],
      "execution_count": 21,
      "outputs": [
        {
          "output_type": "stream",
          "name": "stdout",
          "text": [
            "2.5985339000000005\n",
            "20.91157837\n",
            "0.7329373700000001\n",
            "-7.716473880000001\n",
            "-7.716473880000001\n",
            "8.39004239\n",
            "8.39004239\n",
            "Result:  0.9997729339200772\n"
          ]
        }
      ]
    }
  ]
}