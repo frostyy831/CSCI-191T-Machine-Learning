{
  "nbformat": 4,
  "nbformat_minor": 0,
  "metadata": {
    "colab": {
      "name": "Linear/Logistic Regression.ipynb",
      "provenance": [],
      "authorship_tag": "ABX9TyPCmgYbfNIZHBBYEkBy/MsK",
      "include_colab_link": true
    },
    "kernelspec": {
      "name": "python3",
      "display_name": "Python 3"
    },
    "language_info": {
      "name": "python"
    }
  },
  "cells": [
    {
      "cell_type": "markdown",
      "metadata": {
        "id": "view-in-github",
        "colab_type": "text"
      },
      "source": [
        "<a href=\"https://colab.research.google.com/github/frostyy831/CSCI-191T-Machine-Learning/blob/main/Linear_Logistic_Regression.ipynb\" target=\"_parent\"><img src=\"https://colab.research.google.com/assets/colab-badge.svg\" alt=\"Open In Colab\"/></a>"
      ]
    },
    {
      "cell_type": "markdown",
      "metadata": {
        "id": "W_wj8EaIRi1I"
      },
      "source": [
        "**Author: Fausto Preciado**<br>\n",
        "**Date: 9/28/21**<br>\n",
        "**Description: Linear and Logistic regression** <br>\n",
        "**In this assignment we will combine our work with Linear Regression and** **Logistic regression into a single notebook illustrating both algorithms and** **their connections.  Illustrate Logistic Regression with both the Squared** **Error derived gradient and the Cross-Entropy derived gradient.  Use all the** **existing datasets, and also use your own algorithm to learn to classify the** **attached full IRIS dataset with features:**\n",
        "\n",
        "   **1. sepal length in cm**<br>\n",
        "   **2. sepal width in cm**<br>\n",
        "   **3. petal length in cm**<br>\n",
        "   **4. petal width in cm**<br>\n",
        "   **5. class:**<br> \n",
        "      **-- Iris Setosa**<br>\n",
        "      **-- Iris Versicolour**<br>\n",
        "      **-- Iris Virginica**<br>"
      ]
    },
    {
      "cell_type": "markdown",
      "metadata": {
        "id": "jDQEpiFk3TLh"
      },
      "source": [
        "**Sepal length in cm**<br>\n",
        "Linear Regression"
      ]
    },
    {
      "cell_type": "code",
      "metadata": {
        "id": "JEMil0DNR-4T",
        "colab": {
          "base_uri": "https://localhost:8080/"
        },
        "outputId": "8a2f4e50-88da-4ae3-ed2e-b97423ae8bf4"
      },
      "source": [
        "Weights = [5, 2] # F(X) = 5x_0 + 2x_1\n",
        "F = lambda W, X: sum([w*x for w,x in zip(W,X)])\n",
        "\n",
        "#Getting the IRIS data\n",
        "dataX1 = [5.1,4.9,4.7,4.6,5.0,5.4,4.6,5.0,4.4,4.9,5.4,4.8,4.8,4.3,5.8,5.7,5.4,5.1,5.7,5.1,5.4,5.1,4.6,5.1,4.8,5.0,5.0,5.2,5.2,4.7,4.8,5.4,5.2,5.5,4.9,5.0,5.5,4.9,4.4,5.1,5.0,4.5,4.4,5.0,5.1,4.8,5.1,4.6,5.3,5.0,7.0,6.4,6.9,5.5,6.5,5.7,6.3,4.9,6.6,5.2,5.0,5.9,6.0,6.1,5.6,6.7,5.6,5.8,6.2,5.6,5.9,6.1,6.3,6.1,6.4]\n",
        "dataX0 = [6.6,6.8,6.7,6.0,5.7,5.5,5.5,5.8,6.0,5.4,6.0,6.7,6.3,5.6,5.5,5.5,6.1,5.8,5.0,5.6,5.7,5.7,6.2,5.1,5.7,6.3,5.8,7.1,6.3,6.5,7.6,4.9,7.3,6.7,7.2,6.5,6.4,6.8,5.7,5.8,6.4,6.5,7.7,7.7,6.0,6.9,5.6,7.7,6.3,6.7,7.2,6.2,6.1,6.4,7.2,7.4,7.9,6.4,6.3,6.1,7.7,6.3,6.4,6.0,6.9,6.7,6.9,5.8,6.8,6.7,6.7,6.3,6.5,6.2,5.9]\n",
        "\n",
        "data = (list(zip(dataX1, dataX0)))\n",
        "print (data)\n",
        "Y = [F(Weights, X) for X in data]\n",
        "print (Y)"
      ],
      "execution_count": 40,
      "outputs": [
        {
          "output_type": "stream",
          "name": "stdout",
          "text": [
            "[(5.1, 6.6), (4.9, 6.8), (4.7, 6.7), (4.6, 6.0), (5.0, 5.7), (5.4, 5.5), (4.6, 5.5), (5.0, 5.8), (4.4, 6.0), (4.9, 5.4), (5.4, 6.0), (4.8, 6.7), (4.8, 6.3), (4.3, 5.6), (5.8, 5.5), (5.7, 5.5), (5.4, 6.1), (5.1, 5.8), (5.7, 5.0), (5.1, 5.6), (5.4, 5.7), (5.1, 5.7), (4.6, 6.2), (5.1, 5.1), (4.8, 5.7), (5.0, 6.3), (5.0, 5.8), (5.2, 7.1), (5.2, 6.3), (4.7, 6.5), (4.8, 7.6), (5.4, 4.9), (5.2, 7.3), (5.5, 6.7), (4.9, 7.2), (5.0, 6.5), (5.5, 6.4), (4.9, 6.8), (4.4, 5.7), (5.1, 5.8), (5.0, 6.4), (4.5, 6.5), (4.4, 7.7), (5.0, 7.7), (5.1, 6.0), (4.8, 6.9), (5.1, 5.6), (4.6, 7.7), (5.3, 6.3), (5.0, 6.7), (7.0, 7.2), (6.4, 6.2), (6.9, 6.1), (5.5, 6.4), (6.5, 7.2), (5.7, 7.4), (6.3, 7.9), (4.9, 6.4), (6.6, 6.3), (5.2, 6.1), (5.0, 7.7), (5.9, 6.3), (6.0, 6.4), (6.1, 6.0), (5.6, 6.9), (6.7, 6.7), (5.6, 6.9), (5.8, 5.8), (6.2, 6.8), (5.6, 6.7), (5.9, 6.7), (6.1, 6.3), (6.3, 6.5), (6.1, 6.2), (6.4, 5.9)]\n",
            "[38.7, 38.1, 36.9, 35.0, 36.4, 38.0, 34.0, 36.6, 34.0, 35.3, 39.0, 37.4, 36.6, 32.7, 40.0, 39.5, 39.2, 37.1, 38.5, 36.7, 38.4, 36.9, 35.4, 35.7, 35.4, 37.6, 36.6, 40.2, 38.6, 36.5, 39.2, 36.8, 40.6, 40.9, 38.9, 38.0, 40.3, 38.1, 33.4, 37.1, 37.8, 35.5, 37.4, 40.4, 37.5, 37.8, 36.7, 38.4, 39.1, 38.4, 49.4, 44.4, 46.7, 40.3, 46.9, 43.3, 47.3, 37.3, 45.6, 38.2, 40.4, 42.1, 42.8, 42.5, 41.8, 46.9, 41.8, 40.6, 44.6, 41.4, 42.9, 43.1, 44.5, 42.9, 43.8]\n"
          ]
        }
      ]
    },
    {
      "cell_type": "code",
      "metadata": {
        "colab": {
          "base_uri": "https://localhost:8080/"
        },
        "id": "k23oHhdC_k4p",
        "outputId": "adeb0d5b-4eae-49c7-e9ac-3838a2794634"
      },
      "source": [
        "TrainingData1 = zip(data, Y)\n",
        "\n",
        "print (list(TrainingData1))"
      ],
      "execution_count": 41,
      "outputs": [
        {
          "output_type": "stream",
          "name": "stdout",
          "text": [
            "[((5.1, 6.6), 38.7), ((4.9, 6.8), 38.1), ((4.7, 6.7), 36.9), ((4.6, 6.0), 35.0), ((5.0, 5.7), 36.4), ((5.4, 5.5), 38.0), ((4.6, 5.5), 34.0), ((5.0, 5.8), 36.6), ((4.4, 6.0), 34.0), ((4.9, 5.4), 35.3), ((5.4, 6.0), 39.0), ((4.8, 6.7), 37.4), ((4.8, 6.3), 36.6), ((4.3, 5.6), 32.7), ((5.8, 5.5), 40.0), ((5.7, 5.5), 39.5), ((5.4, 6.1), 39.2), ((5.1, 5.8), 37.1), ((5.7, 5.0), 38.5), ((5.1, 5.6), 36.7), ((5.4, 5.7), 38.4), ((5.1, 5.7), 36.9), ((4.6, 6.2), 35.4), ((5.1, 5.1), 35.7), ((4.8, 5.7), 35.4), ((5.0, 6.3), 37.6), ((5.0, 5.8), 36.6), ((5.2, 7.1), 40.2), ((5.2, 6.3), 38.6), ((4.7, 6.5), 36.5), ((4.8, 7.6), 39.2), ((5.4, 4.9), 36.8), ((5.2, 7.3), 40.6), ((5.5, 6.7), 40.9), ((4.9, 7.2), 38.9), ((5.0, 6.5), 38.0), ((5.5, 6.4), 40.3), ((4.9, 6.8), 38.1), ((4.4, 5.7), 33.4), ((5.1, 5.8), 37.1), ((5.0, 6.4), 37.8), ((4.5, 6.5), 35.5), ((4.4, 7.7), 37.4), ((5.0, 7.7), 40.4), ((5.1, 6.0), 37.5), ((4.8, 6.9), 37.8), ((5.1, 5.6), 36.7), ((4.6, 7.7), 38.4), ((5.3, 6.3), 39.1), ((5.0, 6.7), 38.4), ((7.0, 7.2), 49.4), ((6.4, 6.2), 44.4), ((6.9, 6.1), 46.7), ((5.5, 6.4), 40.3), ((6.5, 7.2), 46.9), ((5.7, 7.4), 43.3), ((6.3, 7.9), 47.3), ((4.9, 6.4), 37.3), ((6.6, 6.3), 45.6), ((5.2, 6.1), 38.2), ((5.0, 7.7), 40.4), ((5.9, 6.3), 42.1), ((6.0, 6.4), 42.8), ((6.1, 6.0), 42.5), ((5.6, 6.9), 41.8), ((6.7, 6.7), 46.9), ((5.6, 6.9), 41.8), ((5.8, 5.8), 40.6), ((6.2, 6.8), 44.6), ((5.6, 6.7), 41.4), ((5.9, 6.7), 42.9), ((6.1, 6.3), 43.1), ((6.3, 6.5), 44.5), ((6.1, 6.2), 42.9), ((6.4, 5.9), 43.8)]\n"
          ]
        }
      ]
    },
    {
      "cell_type": "code",
      "metadata": {
        "colab": {
          "base_uri": "https://localhost:8080/",
          "height": 302
        },
        "id": "n7cnsfIPABWL",
        "outputId": "dc043d9a-1753-4608-e99f-4cc77e509439"
      },
      "source": [
        "## Add Noise\n",
        "import random\n",
        "import numpy as np\n",
        "import matplotlib.pyplot as plt\n",
        "import math\n",
        "\n",
        "EPS = 30\n",
        "yNoise = [round(y+random.random()*EPS-EPS/2,2) for y in Y]\n",
        "TrainingData2 = zip(data, yNoise)\n",
        "print(list(TrainingData2))\n",
        "\n",
        "plt.plot(dataX1, Y, \"g\")\n",
        "plt.plot(dataX1, yNoise, \"b+\")\n",
        "plt.show()"
      ],
      "execution_count": 42,
      "outputs": [
        {
          "output_type": "stream",
          "name": "stdout",
          "text": [
            "[((5.1, 6.6), 34.19), ((4.9, 6.8), 36.72), ((4.7, 6.7), 46.3), ((4.6, 6.0), 40.47), ((5.0, 5.7), 50.88), ((5.4, 5.5), 45.45), ((4.6, 5.5), 20.94), ((5.0, 5.8), 37.66), ((4.4, 6.0), 25.79), ((4.9, 5.4), 48.21), ((5.4, 6.0), 32.45), ((4.8, 6.7), 51.48), ((4.8, 6.3), 46.73), ((4.3, 5.6), 45.39), ((5.8, 5.5), 47.92), ((5.7, 5.5), 40.84), ((5.4, 6.1), 49.15), ((5.1, 5.8), 31.84), ((5.7, 5.0), 50.44), ((5.1, 5.6), 39.08), ((5.4, 5.7), 49.97), ((5.1, 5.7), 36.62), ((4.6, 6.2), 29.19), ((5.1, 5.1), 24.99), ((4.8, 5.7), 36.3), ((5.0, 6.3), 22.94), ((5.0, 5.8), 26.01), ((5.2, 7.1), 38.78), ((5.2, 6.3), 38.17), ((4.7, 6.5), 46.36), ((4.8, 7.6), 34.56), ((5.4, 4.9), 31.3), ((5.2, 7.3), 43.63), ((5.5, 6.7), 32.44), ((4.9, 7.2), 37.44), ((5.0, 6.5), 25.65), ((5.5, 6.4), 47.34), ((4.9, 6.8), 24.42), ((4.4, 5.7), 41.76), ((5.1, 5.8), 35.04), ((5.0, 6.4), 42.69), ((4.5, 6.5), 43.33), ((4.4, 7.7), 34.73), ((5.0, 7.7), 53.27), ((5.1, 6.0), 38.2), ((4.8, 6.9), 40.56), ((5.1, 5.6), 48.21), ((4.6, 7.7), 39.66), ((5.3, 6.3), 37.75), ((5.0, 6.7), 44.21), ((7.0, 7.2), 62.09), ((6.4, 6.2), 44.25), ((6.9, 6.1), 34.5), ((5.5, 6.4), 44.25), ((6.5, 7.2), 46.59), ((5.7, 7.4), 32.25), ((6.3, 7.9), 34.04), ((4.9, 6.4), 41.18), ((6.6, 6.3), 55.86), ((5.2, 6.1), 40.63), ((5.0, 7.7), 52.02), ((5.9, 6.3), 30.33), ((6.0, 6.4), 41.28), ((6.1, 6.0), 39.77), ((5.6, 6.9), 50.71), ((6.7, 6.7), 32.15), ((5.6, 6.9), 39.68), ((5.8, 5.8), 43.73), ((6.2, 6.8), 52.96), ((5.6, 6.7), 53.76), ((5.9, 6.7), 46.7), ((6.1, 6.3), 48.62), ((6.3, 6.5), 39.77), ((6.1, 6.2), 56.86), ((6.4, 5.9), 55.69)]\n"
          ]
        },
        {
          "output_type": "display_data",
          "data": {
            "image/png": "[encoded data removed]",
            "text/plain": [
              "<Figure size 432x288 with 1 Axes>"
            ]
          },
          "metadata": {
            "needs_background": "light"
          }
        }
      ]
    },
    {
      "cell_type": "code",
      "metadata": {
        "colab": {
          "base_uri": "https://localhost:8080/"
        },
        "id": "r2PlgnflAyT5",
        "outputId": "38c1bc58-bafc-4b42-ead9-8a79b19c000d"
      },
      "source": [
        "#Testing data, with noice\n",
        "data = [((5.1, 6.6), 43.82), ((4.9, 6.8), 45.25), ((4.7, 6.7), 33.04), ((4.6, 6.0), 27.38), ((5.0, 5.7), 41.45), ((5.4, 5.5), 43.1), ((4.6, 5.5), 25.75), ((5.0, 5.8), 49.38), ((4.4, 6.0), 27.99), ((4.9, 5.4), 46.89), ((5.4, 6.0), 53.38), ((4.8, 6.7), 48.55), ((4.8, 6.3), 33.79), ((4.3, 5.6), 28.84), ((5.8, 5.5), 40.76), ((5.7, 5.5), 39.6), ((5.4, 6.1), 49.99), ((5.1, 5.8), 22.23), ((5.7, 5.0), 46.8), ((5.1, 5.6), 22.56), ((5.4, 5.7), 31.84), ((5.1, 5.7), 41.9), ((4.6, 6.2), 47.52), ((5.1, 5.1), 43.29), ((4.8, 5.7), 29.49), ((5.0, 6.3), 41.35), ((5.0, 5.8), 35.71), ((5.2, 7.1), 45.64), ((5.2, 6.3), 26.53), ((4.7, 6.5), 44.46), ((4.8, 7.6), 33.14), ((5.4, 4.9), 40.92), ((5.2, 7.3), 37.74), ((5.5, 6.7), 32.94), ((4.9, 7.2), 35.1), ((5.0, 6.5), 47.18), ((5.5, 6.4), 26.61), ((4.9, 6.8), 25.43), ((4.4, 5.7), 45.0), ((5.1, 5.8), 28.46), ((5.0, 6.4), 46.44), ((4.5, 6.5), 29.64), ((4.4, 7.7), 26.82), ((5.0, 7.7), 37.69), ((5.1, 6.0), 30.42), ((4.8, 6.9), 23.69), ((5.1, 5.6), 50.34), ((4.6, 7.7), 32.93), ((5.3, 6.3), 53.15), ((5.0, 6.7), 47.08), ((7.0, 7.2), 51.28), ((6.4, 6.2), 34.28), ((6.9, 6.1), 54.22), ((5.5, 6.4), 36.05), ((6.5, 7.2), 33.49), ((5.7, 7.4), 48.36), ((6.3, 7.9), 50.67), ((4.9, 6.4), 35.13), ((6.6, 6.3), 36.5), ((5.2, 6.1), 41.28), ((5.0, 7.7), 41.42), ((5.9, 6.3), 30.66), ((6.0, 6.4), 31.65), ((6.1, 6.0), 40.41), ((5.6, 6.9), 37.51), ((6.7, 6.7), 57.41), ((5.6, 6.9), 41.55), ((5.8, 5.8), 49.24), ((6.2, 6.8), 51.56), ((5.6, 6.7), 30.34), ((5.9, 6.7), 48.95), ((6.1, 6.3), 37.05), ((6.3, 6.5), 49.26), ((6.1, 6.2), 46.97), ((6.4, 5.9), 52.2)]\n",
        "print(data)\n",
        "X = [d for d,_ in data]\n",
        "Y = [y for _, y in data]\n",
        "print(X)\n",
        "print(Y)"
      ],
      "execution_count": 43,
      "outputs": [
        {
          "output_type": "stream",
          "name": "stdout",
          "text": [
            "[((5.1, 6.6), 43.82), ((4.9, 6.8), 45.25), ((4.7, 6.7), 33.04), ((4.6, 6.0), 27.38), ((5.0, 5.7), 41.45), ((5.4, 5.5), 43.1), ((4.6, 5.5), 25.75), ((5.0, 5.8), 49.38), ((4.4, 6.0), 27.99), ((4.9, 5.4), 46.89), ((5.4, 6.0), 53.38), ((4.8, 6.7), 48.55), ((4.8, 6.3), 33.79), ((4.3, 5.6), 28.84), ((5.8, 5.5), 40.76), ((5.7, 5.5), 39.6), ((5.4, 6.1), 49.99), ((5.1, 5.8), 22.23), ((5.7, 5.0), 46.8), ((5.1, 5.6), 22.56), ((5.4, 5.7), 31.84), ((5.1, 5.7), 41.9), ((4.6, 6.2), 47.52), ((5.1, 5.1), 43.29), ((4.8, 5.7), 29.49), ((5.0, 6.3), 41.35), ((5.0, 5.8), 35.71), ((5.2, 7.1), 45.64), ((5.2, 6.3), 26.53), ((4.7, 6.5), 44.46), ((4.8, 7.6), 33.14), ((5.4, 4.9), 40.92), ((5.2, 7.3), 37.74), ((5.5, 6.7), 32.94), ((4.9, 7.2), 35.1), ((5.0, 6.5), 47.18), ((5.5, 6.4), 26.61), ((4.9, 6.8), 25.43), ((4.4, 5.7), 45.0), ((5.1, 5.8), 28.46), ((5.0, 6.4), 46.44), ((4.5, 6.5), 29.64), ((4.4, 7.7), 26.82), ((5.0, 7.7), 37.69), ((5.1, 6.0), 30.42), ((4.8, 6.9), 23.69), ((5.1, 5.6), 50.34), ((4.6, 7.7), 32.93), ((5.3, 6.3), 53.15), ((5.0, 6.7), 47.08), ((7.0, 7.2), 51.28), ((6.4, 6.2), 34.28), ((6.9, 6.1), 54.22), ((5.5, 6.4), 36.05), ((6.5, 7.2), 33.49), ((5.7, 7.4), 48.36), ((6.3, 7.9), 50.67), ((4.9, 6.4), 35.13), ((6.6, 6.3), 36.5), ((5.2, 6.1), 41.28), ((5.0, 7.7), 41.42), ((5.9, 6.3), 30.66), ((6.0, 6.4), 31.65), ((6.1, 6.0), 40.41), ((5.6, 6.9), 37.51), ((6.7, 6.7), 57.41), ((5.6, 6.9), 41.55), ((5.8, 5.8), 49.24), ((6.2, 6.8), 51.56), ((5.6, 6.7), 30.34), ((5.9, 6.7), 48.95), ((6.1, 6.3), 37.05), ((6.3, 6.5), 49.26), ((6.1, 6.2), 46.97), ((6.4, 5.9), 52.2)]\n",
            "[(5.1, 6.6), (4.9, 6.8), (4.7, 6.7), (4.6, 6.0), (5.0, 5.7), (5.4, 5.5), (4.6, 5.5), (5.0, 5.8), (4.4, 6.0), (4.9, 5.4), (5.4, 6.0), (4.8, 6.7), (4.8, 6.3), (4.3, 5.6), (5.8, 5.5), (5.7, 5.5), (5.4, 6.1), (5.1, 5.8), (5.7, 5.0), (5.1, 5.6), (5.4, 5.7), (5.1, 5.7), (4.6, 6.2), (5.1, 5.1), (4.8, 5.7), (5.0, 6.3), (5.0, 5.8), (5.2, 7.1), (5.2, 6.3), (4.7, 6.5), (4.8, 7.6), (5.4, 4.9), (5.2, 7.3), (5.5, 6.7), (4.9, 7.2), (5.0, 6.5), (5.5, 6.4), (4.9, 6.8), (4.4, 5.7), (5.1, 5.8), (5.0, 6.4), (4.5, 6.5), (4.4, 7.7), (5.0, 7.7), (5.1, 6.0), (4.8, 6.9), (5.1, 5.6), (4.6, 7.7), (5.3, 6.3), (5.0, 6.7), (7.0, 7.2), (6.4, 6.2), (6.9, 6.1), (5.5, 6.4), (6.5, 7.2), (5.7, 7.4), (6.3, 7.9), (4.9, 6.4), (6.6, 6.3), (5.2, 6.1), (5.0, 7.7), (5.9, 6.3), (6.0, 6.4), (6.1, 6.0), (5.6, 6.9), (6.7, 6.7), (5.6, 6.9), (5.8, 5.8), (6.2, 6.8), (5.6, 6.7), (5.9, 6.7), (6.1, 6.3), (6.3, 6.5), (6.1, 6.2), (6.4, 5.9)]\n",
            "[43.82, 45.25, 33.04, 27.38, 41.45, 43.1, 25.75, 49.38, 27.99, 46.89, 53.38, 48.55, 33.79, 28.84, 40.76, 39.6, 49.99, 22.23, 46.8, 22.56, 31.84, 41.9, 47.52, 43.29, 29.49, 41.35, 35.71, 45.64, 26.53, 44.46, 33.14, 40.92, 37.74, 32.94, 35.1, 47.18, 26.61, 25.43, 45.0, 28.46, 46.44, 29.64, 26.82, 37.69, 30.42, 23.69, 50.34, 32.93, 53.15, 47.08, 51.28, 34.28, 54.22, 36.05, 33.49, 48.36, 50.67, 35.13, 36.5, 41.28, 41.42, 30.66, 31.65, 40.41, 37.51, 57.41, 41.55, 49.24, 51.56, 30.34, 48.95, 37.05, 49.26, 46.97, 52.2]\n"
          ]
        }
      ]
    },
    {
      "cell_type": "code",
      "metadata": {
        "id": "l4zQKz2cBBB8"
      },
      "source": [
        "alpha=0.01\n",
        "model=[0, 0]\n",
        "Errors = []"
      ],
      "execution_count": 44,
      "outputs": []
    },
    {
      "cell_type": "code",
      "metadata": {
        "colab": {
          "base_uri": "https://localhost:8080/"
        },
        "id": "-qB--qJGBCuC",
        "outputId": "5ade1715-3483-41e9-ac04-258342d247b0"
      },
      "source": [
        "# Calculate Predicted\n",
        "\n",
        "yPredicted = [F(model, x) for x in X]\n",
        "print(yPredicted)"
      ],
      "execution_count": 45,
      "outputs": [
        {
          "output_type": "stream",
          "name": "stdout",
          "text": [
            "[0.0, 0.0, 0.0, 0.0, 0.0, 0.0, 0.0, 0.0, 0.0, 0.0, 0.0, 0.0, 0.0, 0.0, 0.0, 0.0, 0.0, 0.0, 0.0, 0.0, 0.0, 0.0, 0.0, 0.0, 0.0, 0.0, 0.0, 0.0, 0.0, 0.0, 0.0, 0.0, 0.0, 0.0, 0.0, 0.0, 0.0, 0.0, 0.0, 0.0, 0.0, 0.0, 0.0, 0.0, 0.0, 0.0, 0.0, 0.0, 0.0, 0.0, 0.0, 0.0, 0.0, 0.0, 0.0, 0.0, 0.0, 0.0, 0.0, 0.0, 0.0, 0.0, 0.0, 0.0, 0.0, 0.0, 0.0, 0.0, 0.0, 0.0, 0.0, 0.0, 0.0, 0.0, 0.0]\n"
          ]
        }
      ]
    },
    {
      "cell_type": "code",
      "metadata": {
        "colab": {
          "base_uri": "https://localhost:8080/"
        },
        "id": "v82lPdd6BHb_",
        "outputId": "a7c0f5f9-f1fc-423a-ec74-7acdc71b6fea"
      },
      "source": [
        "# Evaluate Model\n",
        "Error = sum([(r-y)**2.0 for r,y in zip(Y, yPredicted)])\n",
        "print(\"With Model=\", model, \"Error=\", Error)\n",
        "Errors.append([model, Error])\n",
        "print (\"History w/ Alpha=\", alpha, \"=\")\n",
        "print (Errors)\n",
        "print(\"Next\")\n",
        "for i in range(len(Errors)):\n",
        "  print(\"Iterations=\",i+1,\":=\",Errors[i])"
      ],
      "execution_count": 46,
      "outputs": [
        {
          "output_type": "stream",
          "name": "stdout",
          "text": [
            "With Model= [0, 0] Error= 122533.27920000003\n",
            "History w/ Alpha= 0.01 =\n",
            "[[[0, 0], 122533.27920000003]]\n",
            "Next\n",
            "Iterations= 1 := [[0, 0], 122533.27920000003]\n"
          ]
        }
      ]
    },
    {
      "cell_type": "code",
      "metadata": {
        "colab": {
          "base_uri": "https://localhost:8080/"
        },
        "id": "_pCBLAG1BNLO",
        "outputId": "b050f1c3-a1f9-466d-bc2c-54dc6fc5c0bf"
      },
      "source": [
        "deltaX0 = 1/len(Y)*sum( [(-2*(r-y)*x[0]) for r,y,x in zip(Y, yPredicted, X)] )\n",
        "deltaX1 = 1/len(Y)*sum( [(-2*(r-y)*x[1]) for r,y,x in zip(Y, yPredicted, X)] )\n",
        "\n",
        "print(deltaX0)\n",
        "print(deltaX1)"
      ],
      "execution_count": 47,
      "outputs": [
        {
          "output_type": "stream",
          "name": "stdout",
          "text": [
            "-425.73056\n",
            "-500.2796533333332\n"
          ]
        }
      ]
    },
    {
      "cell_type": "code",
      "metadata": {
        "colab": {
          "base_uri": "https://localhost:8080/"
        },
        "id": "Gz-yLxo1BRlp",
        "outputId": "04735db0-751b-45e7-b203-4c8ddd17c652"
      },
      "source": [
        "model = [model[0]-alpha*deltaX0, model[1]-alpha*deltaX1]\n",
        "print(model)"
      ],
      "execution_count": 48,
      "outputs": [
        {
          "output_type": "stream",
          "name": "stdout",
          "text": [
            "[4.2573056000000005, 5.002796533333332]\n"
          ]
        }
      ]
    },
    {
      "cell_type": "code",
      "metadata": {
        "colab": {
          "base_uri": "https://localhost:8080/",
          "height": 268
        },
        "id": "Vn9emmG1BV0B",
        "outputId": "0ffbdb8f-aeef-4726-b2a2-51d5b69d9f41"
      },
      "source": [
        "#Plot learned model with data\n",
        "dataX1 = [x[1] for x, y in data]\n",
        "plt.plot(dataX1, yPredicted, \"b\")\n",
        "plt.plot(dataX1, Y, \"g+\")\n",
        "plt.show()"
      ],
      "execution_count": 49,
      "outputs": [
        {
          "output_type": "display_data",
          "data": {
            "image/png": "[encoded data removed]",
            "text/plain": [
              "<Figure size 432x288 with 1 Axes>"
            ]
          },
          "metadata": {
            "needs_background": "light"
          }
        }
      ]
    },
    {
      "cell_type": "code",
      "metadata": {
        "colab": {
          "base_uri": "https://localhost:8080/"
        },
        "id": "J_6N0UoTBw2l",
        "outputId": "d403f1e7-94f1-411f-f6d7-3b2a8c222363"
      },
      "source": [
        "#Testing data, no noice\n",
        "data = [((5.1, 6.6), 43), ((4.9, 6), 45), ((4.7, 6.7), 33), ((4.6, 6.0), 27), ((5.0, 5.7), 41), ((5.4, 5.5), 43), ((4.6, 5.5), 25), ((5.0, 5.8), 49), ((4.4, 6.0), 27), ((4.9, 5.4), 46), ((5.4, 6.0), 53), ((4.8, 6.7), 48), ((4.8, 6.3), 33), ((4.3, 5.6), 28), ((5.8, 5.5), 40), ((5.7, 5.5), 39), ((5.4, 6.1), 49), ((5.1, 5.8), 22), ((5.7, 5.0), 46), ((5.1, 5.6), 22), ((5.4, 5.7), 31), ((5.1, 5.7), 41), ((4.6, 6.2), 47), ((5.1, 5.1), 43), ((4.8, 5.7), 29), ((5.0, 6.3), 41), ((5.0, 5.8), 35), ((5.2, 7.1), 45), ((5.2, 6.3), 26), ((4.7, 6.5), 44), ((4.8, 7.6), 33), ((5.4, 4.9), 40), ((5.2, 7.3), 37), ((5.5, 6.7), 32), ((4.9, 7.2), 35), ((5.0, 6.5), 47), ((5.5, 6.4), 26), ((4.9, 6.8), 25), ((4.4, 5.7), 45), ((5.1, 5.8), 28), ((5.0, 6.4), 46), ((4.5, 6.5), 29), ((4.4, 7.7), 26), ((5.0, 7.7), 37), ((5.1, 6.0), 30), ((4.8, 6.9), 23), ((5.1, 5.6), 50), ((4.6, 7.7), 32), ((5.3, 6.3), 53), ((5.0, 6.7), 47), ((7.0, 7.2), 51), ((6.4, 6.2), 34), ((6.9, 6.1), 54), ((5.5, 6.4), 36), ((6.5, 7.2), 33), ((5.7, 7.4), 48), ((6.3, 7.9), 50), ((4.9, 6.4), 35), ((6.6, 6.3), 36), ((5.2, 6.1), 41), ((5.0, 7.7), 41), ((5.9, 6.3), 30), ((6.0, 6.4), 31), ((6.1, 6.0), 40), ((5.6, 6.9), 37), ((6.7, 6.7), 57), ((5.6, 6.9), 41), ((5.8, 5.8), 49), ((6.2, 6.8), 51), ((5.6, 6.7), 30), ((5.9, 6.7), 48), ((6.1, 6.3), 37), ((6.3, 6.5), 49), ((6.1, 6.2), 46), ((6.4, 5.9), 52)]\n",
        "print(data)\n",
        "X = [d for d,_ in data]\n",
        "Y = [y for _, y in data]\n",
        "print(X)\n",
        "print(Y)"
      ],
      "execution_count": 50,
      "outputs": [
        {
          "output_type": "stream",
          "name": "stdout",
          "text": [
            "[((5.1, 6.6), 43), ((4.9, 6), 45), ((4.7, 6.7), 33), ((4.6, 6.0), 27), ((5.0, 5.7), 41), ((5.4, 5.5), 43), ((4.6, 5.5), 25), ((5.0, 5.8), 49), ((4.4, 6.0), 27), ((4.9, 5.4), 46), ((5.4, 6.0), 53), ((4.8, 6.7), 48), ((4.8, 6.3), 33), ((4.3, 5.6), 28), ((5.8, 5.5), 40), ((5.7, 5.5), 39), ((5.4, 6.1), 49), ((5.1, 5.8), 22), ((5.7, 5.0), 46), ((5.1, 5.6), 22), ((5.4, 5.7), 31), ((5.1, 5.7), 41), ((4.6, 6.2), 47), ((5.1, 5.1), 43), ((4.8, 5.7), 29), ((5.0, 6.3), 41), ((5.0, 5.8), 35), ((5.2, 7.1), 45), ((5.2, 6.3), 26), ((4.7, 6.5), 44), ((4.8, 7.6), 33), ((5.4, 4.9), 40), ((5.2, 7.3), 37), ((5.5, 6.7), 32), ((4.9, 7.2), 35), ((5.0, 6.5), 47), ((5.5, 6.4), 26), ((4.9, 6.8), 25), ((4.4, 5.7), 45), ((5.1, 5.8), 28), ((5.0, 6.4), 46), ((4.5, 6.5), 29), ((4.4, 7.7), 26), ((5.0, 7.7), 37), ((5.1, 6.0), 30), ((4.8, 6.9), 23), ((5.1, 5.6), 50), ((4.6, 7.7), 32), ((5.3, 6.3), 53), ((5.0, 6.7), 47), ((7.0, 7.2), 51), ((6.4, 6.2), 34), ((6.9, 6.1), 54), ((5.5, 6.4), 36), ((6.5, 7.2), 33), ((5.7, 7.4), 48), ((6.3, 7.9), 50), ((4.9, 6.4), 35), ((6.6, 6.3), 36), ((5.2, 6.1), 41), ((5.0, 7.7), 41), ((5.9, 6.3), 30), ((6.0, 6.4), 31), ((6.1, 6.0), 40), ((5.6, 6.9), 37), ((6.7, 6.7), 57), ((5.6, 6.9), 41), ((5.8, 5.8), 49), ((6.2, 6.8), 51), ((5.6, 6.7), 30), ((5.9, 6.7), 48), ((6.1, 6.3), 37), ((6.3, 6.5), 49), ((6.1, 6.2), 46), ((6.4, 5.9), 52)]\n",
            "[(5.1, 6.6), (4.9, 6), (4.7, 6.7), (4.6, 6.0), (5.0, 5.7), (5.4, 5.5), (4.6, 5.5), (5.0, 5.8), (4.4, 6.0), (4.9, 5.4), (5.4, 6.0), (4.8, 6.7), (4.8, 6.3), (4.3, 5.6), (5.8, 5.5), (5.7, 5.5), (5.4, 6.1), (5.1, 5.8), (5.7, 5.0), (5.1, 5.6), (5.4, 5.7), (5.1, 5.7), (4.6, 6.2), (5.1, 5.1), (4.8, 5.7), (5.0, 6.3), (5.0, 5.8), (5.2, 7.1), (5.2, 6.3), (4.7, 6.5), (4.8, 7.6), (5.4, 4.9), (5.2, 7.3), (5.5, 6.7), (4.9, 7.2), (5.0, 6.5), (5.5, 6.4), (4.9, 6.8), (4.4, 5.7), (5.1, 5.8), (5.0, 6.4), (4.5, 6.5), (4.4, 7.7), (5.0, 7.7), (5.1, 6.0), (4.8, 6.9), (5.1, 5.6), (4.6, 7.7), (5.3, 6.3), (5.0, 6.7), (7.0, 7.2), (6.4, 6.2), (6.9, 6.1), (5.5, 6.4), (6.5, 7.2), (5.7, 7.4), (6.3, 7.9), (4.9, 6.4), (6.6, 6.3), (5.2, 6.1), (5.0, 7.7), (5.9, 6.3), (6.0, 6.4), (6.1, 6.0), (5.6, 6.9), (6.7, 6.7), (5.6, 6.9), (5.8, 5.8), (6.2, 6.8), (5.6, 6.7), (5.9, 6.7), (6.1, 6.3), (6.3, 6.5), (6.1, 6.2), (6.4, 5.9)]\n",
            "[43, 45, 33, 27, 41, 43, 25, 49, 27, 46, 53, 48, 33, 28, 40, 39, 49, 22, 46, 22, 31, 41, 47, 43, 29, 41, 35, 45, 26, 44, 33, 40, 37, 32, 35, 47, 26, 25, 45, 28, 46, 29, 26, 37, 30, 23, 50, 32, 53, 47, 51, 34, 54, 36, 33, 48, 50, 35, 36, 41, 41, 30, 31, 40, 37, 57, 41, 49, 51, 30, 48, 37, 49, 46, 52]\n"
          ]
        }
      ]
    },
    {
      "cell_type": "code",
      "metadata": {
        "id": "5abg3shKD_yL"
      },
      "source": [
        "alpha=0.01\n",
        "model=[0, 0]\n",
        "Errors = []"
      ],
      "execution_count": 51,
      "outputs": []
    },
    {
      "cell_type": "code",
      "metadata": {
        "colab": {
          "base_uri": "https://localhost:8080/"
        },
        "id": "vVK0vbRID_j9",
        "outputId": "07423232-3d8e-4758-b2da-9aba1da0af3d"
      },
      "source": [
        "# Calculate Predicted\n",
        "\n",
        "yPredicted = [F(model, x) for x in X]\n",
        "print(yPredicted)"
      ],
      "execution_count": 52,
      "outputs": [
        {
          "output_type": "stream",
          "name": "stdout",
          "text": [
            "[0.0, 0.0, 0.0, 0.0, 0.0, 0.0, 0.0, 0.0, 0.0, 0.0, 0.0, 0.0, 0.0, 0.0, 0.0, 0.0, 0.0, 0.0, 0.0, 0.0, 0.0, 0.0, 0.0, 0.0, 0.0, 0.0, 0.0, 0.0, 0.0, 0.0, 0.0, 0.0, 0.0, 0.0, 0.0, 0.0, 0.0, 0.0, 0.0, 0.0, 0.0, 0.0, 0.0, 0.0, 0.0, 0.0, 0.0, 0.0, 0.0, 0.0, 0.0, 0.0, 0.0, 0.0, 0.0, 0.0, 0.0, 0.0, 0.0, 0.0, 0.0, 0.0, 0.0, 0.0, 0.0, 0.0, 0.0, 0.0, 0.0, 0.0, 0.0, 0.0, 0.0, 0.0, 0.0]\n"
          ]
        }
      ]
    },
    {
      "cell_type": "code",
      "metadata": {
        "colab": {
          "base_uri": "https://localhost:8080/"
        },
        "id": "FX8hsq3uD_Sd",
        "outputId": "53ef2e5b-a149-4591-a11e-c711095ea64e"
      },
      "source": [
        "# Evaluate Model\n",
        "Error = sum([(r-y)**2.0 for r,y in zip(Y, yPredicted)])\n",
        "print(\"With Model=\", model, \"Error=\", Error)\n",
        "Errors.append([model, Error])\n",
        "print (\"History w/ Alpha=\", alpha, \"=\")\n",
        "print (Errors)\n",
        "print(\"Next\")\n",
        "for i in range(len(Errors)):\n",
        "  print(\"Iterations=\",i+1,\":=\",Errors[i])"
      ],
      "execution_count": 53,
      "outputs": [
        {
          "output_type": "stream",
          "name": "stdout",
          "text": [
            "With Model= [0, 0] Error= 119669.0\n",
            "History w/ Alpha= 0.01 =\n",
            "[[[0, 0], 119669.0]]\n",
            "Next\n",
            "Iterations= 1 := [[0, 0], 119669.0]\n"
          ]
        }
      ]
    },
    {
      "cell_type": "code",
      "metadata": {
        "colab": {
          "base_uri": "https://localhost:8080/"
        },
        "id": "y8vtsUYDD0xM",
        "outputId": "140d80a4-75c7-42cf-c978-e9760ddea5f1"
      },
      "source": [
        "deltaX0 = 1/len(Y)*sum( [(-2*(r-y)*x[0]) for r,y,x in zip(Y, yPredicted, X)] )\n",
        "deltaX1 = 1/len(Y)*sum( [(-2*(r-y)*x[1]) for r,y,x in zip(Y, yPredicted, X)] )\n",
        "\n",
        "print(deltaX0)\n",
        "print(deltaX1)"
      ],
      "execution_count": 54,
      "outputs": [
        {
          "output_type": "stream",
          "name": "stdout",
          "text": [
            "-420.4346666666668\n",
            "-493.0026666666666\n"
          ]
        }
      ]
    },
    {
      "cell_type": "code",
      "metadata": {
        "colab": {
          "base_uri": "https://localhost:8080/"
        },
        "id": "W__Pkg5BEPHP",
        "outputId": "4e280a00-3ed8-4594-e909-fad9e5bdf42f"
      },
      "source": [
        "model = [model[0]-alpha*deltaX0, model[1]-alpha*deltaX1]\n",
        "print(model)"
      ],
      "execution_count": 55,
      "outputs": [
        {
          "output_type": "stream",
          "name": "stdout",
          "text": [
            "[4.204346666666669, 4.930026666666666]\n"
          ]
        }
      ]
    },
    {
      "cell_type": "code",
      "metadata": {
        "colab": {
          "base_uri": "https://localhost:8080/",
          "height": 265
        },
        "id": "SoX7jf2DETKd",
        "outputId": "18cf3e88-e5be-470c-806f-a2a00d2442ba"
      },
      "source": [
        "#Plot learned model with data\n",
        "dataX1 = [x[1] for x, y in data]\n",
        "plt.plot(dataX1, yPredicted, \"b\")\n",
        "plt.plot(dataX1, Y, \"g+\")\n",
        "plt.show()"
      ],
      "execution_count": 56,
      "outputs": [
        {
          "output_type": "display_data",
          "data": {
            "image/png": "[encoded data removed]",
            "text/plain": [
              "<Figure size 432x288 with 1 Axes>"
            ]
          },
          "metadata": {
            "needs_background": "light"
          }
        }
      ]
    },
    {
      "cell_type": "markdown",
      "metadata": {
        "id": "jltYp3ME3Yy7"
      },
      "source": [
        "**Sepal width in cm**"
      ]
    },
    {
      "cell_type": "code",
      "metadata": {
        "colab": {
          "base_uri": "https://localhost:8080/"
        },
        "id": "zxovKlSW3dBJ",
        "outputId": "814c00e0-637f-4056-f215-2aa89588d441"
      },
      "source": [
        "Weights = [5, 2] # F(X) = 5x_0 + 2x_1\n",
        "F = lambda W, X: sum([w*x for w,x in zip(W,X)])\n",
        "\n",
        "#Getting the IRIS data\n",
        "dataX1 = [3.5,3.0,3.2,3.1,3.6,3.9,3.4,3.4,2.9,3.1,3.7,3.4,3.0,3.0,4.0,4.4,3.9,3.5,3.8,3.8,3.4,3.7,3.6,3.3,3.4,3.0,3.4,3.5,3.4,3.2,3.1,3.4,4.4,3.1,3.2,3.5,3.1,3.0,3.4,3.5,2.3,3.2,3.5,3.8,3.0,3.8,3.2,3.7,3.3,3.2,3.2,3.1,2.3,2.8,2.8,3.3,2.4,2.9,2.7,2.0,3.0,2.2,2.9,2.9,3.1,3.0,2.7,2.2,2.5,3.2,2.8,2.5,2.8,2.9,3.0]\n",
        "dataX0 = [3.0,2.8,3.0,2.9,2.6,2.4,2.4,2.7,2.7,3.0,3.4,3.1,2.3,3.0,2.5,2.6,3.0,2.6,2.3,2.7,3.0,2.9,2.9,2.5,2.8,3.3,2.7,3.0,2.9,3.0,3.0,2.5,2.9,2.5,3.6,3.2,2.7,3.0,2.5,2.8,3.2,3.0,3.8,2.6,2.2,3.2,2.8,2.8,2.7,3.3,3.2,2.8,3.0,2.8,3.0,2.8,3.8,2.8,2.8,2.6,3.0,3.4,3.1,3.0,3.1,3.1,3.1,2.7,3.2,3.3,3.0,2.5,3.0,3.4,3.0]\n",
        "\n",
        "data = (list(zip(dataX1, dataX0)))\n",
        "print (data)\n",
        "Y = [F(Weights, X) for X in data]\n",
        "print (Y)"
      ],
      "execution_count": 57,
      "outputs": [
        {
          "output_type": "stream",
          "name": "stdout",
          "text": [
            "[(3.5, 3.0), (3.0, 2.8), (3.2, 3.0), (3.1, 2.9), (3.6, 2.6), (3.9, 2.4), (3.4, 2.4), (3.4, 2.7), (2.9, 2.7), (3.1, 3.0), (3.7, 3.4), (3.4, 3.1), (3.0, 2.3), (3.0, 3.0), (4.0, 2.5), (4.4, 2.6), (3.9, 3.0), (3.5, 2.6), (3.8, 2.3), (3.8, 2.7), (3.4, 3.0), (3.7, 2.9), (3.6, 2.9), (3.3, 2.5), (3.4, 2.8), (3.0, 3.3), (3.4, 2.7), (3.5, 3.0), (3.4, 2.9), (3.2, 3.0), (3.1, 3.0), (3.4, 2.5), (4.4, 2.9), (3.1, 2.5), (3.2, 3.6), (3.5, 3.2), (3.1, 2.7), (3.0, 3.0), (3.4, 2.5), (3.5, 2.8), (2.3, 3.2), (3.2, 3.0), (3.5, 3.8), (3.8, 2.6), (3.0, 2.2), (3.8, 3.2), (3.2, 2.8), (3.7, 2.8), (3.3, 2.7), (3.2, 3.3), (3.2, 3.2), (3.1, 2.8), (2.3, 3.0), (2.8, 2.8), (2.8, 3.0), (3.3, 2.8), (2.4, 3.8), (2.9, 2.8), (2.7, 2.8), (2.0, 2.6), (3.0, 3.0), (2.2, 3.4), (2.9, 3.1), (2.9, 3.0), (3.1, 3.1), (3.0, 3.1), (2.7, 3.1), (2.2, 2.7), (2.5, 3.2), (3.2, 3.3), (2.8, 3.0), (2.5, 2.5), (2.8, 3.0), (2.9, 3.4), (3.0, 3.0)]\n",
            "[23.5, 20.6, 22.0, 21.3, 23.2, 24.3, 21.8, 22.4, 19.9, 21.5, 25.3, 23.2, 19.6, 21.0, 25.0, 27.2, 25.5, 22.7, 23.6, 24.4, 23.0, 24.3, 23.8, 21.5, 22.6, 21.6, 22.4, 23.5, 22.8, 22.0, 21.5, 22.0, 27.8, 20.5, 23.2, 23.9, 20.9, 21.0, 22.0, 23.1, 17.9, 22.0, 25.1, 24.2, 19.4, 25.4, 21.6, 24.1, 21.9, 22.6, 22.4, 21.1, 17.5, 19.6, 20.0, 22.1, 19.6, 20.1, 19.1, 15.2, 21.0, 17.8, 20.7, 20.5, 21.7, 21.2, 19.7, 16.4, 18.9, 22.6, 20.0, 17.5, 20.0, 21.3, 21.0]\n"
          ]
        }
      ]
    },
    {
      "cell_type": "code",
      "metadata": {
        "colab": {
          "base_uri": "https://localhost:8080/"
        },
        "id": "2b3WpP5_WOXX",
        "outputId": "cafafbbc-5743-420c-9c05-5902e2d91240"
      },
      "source": [
        "TrainingData1 = zip(data, Y)\n",
        "\n",
        "print (list(TrainingData1))"
      ],
      "execution_count": 58,
      "outputs": [
        {
          "output_type": "stream",
          "name": "stdout",
          "text": [
            "[((3.5, 3.0), 23.5), ((3.0, 2.8), 20.6), ((3.2, 3.0), 22.0), ((3.1, 2.9), 21.3), ((3.6, 2.6), 23.2), ((3.9, 2.4), 24.3), ((3.4, 2.4), 21.8), ((3.4, 2.7), 22.4), ((2.9, 2.7), 19.9), ((3.1, 3.0), 21.5), ((3.7, 3.4), 25.3), ((3.4, 3.1), 23.2), ((3.0, 2.3), 19.6), ((3.0, 3.0), 21.0), ((4.0, 2.5), 25.0), ((4.4, 2.6), 27.2), ((3.9, 3.0), 25.5), ((3.5, 2.6), 22.7), ((3.8, 2.3), 23.6), ((3.8, 2.7), 24.4), ((3.4, 3.0), 23.0), ((3.7, 2.9), 24.3), ((3.6, 2.9), 23.8), ((3.3, 2.5), 21.5), ((3.4, 2.8), 22.6), ((3.0, 3.3), 21.6), ((3.4, 2.7), 22.4), ((3.5, 3.0), 23.5), ((3.4, 2.9), 22.8), ((3.2, 3.0), 22.0), ((3.1, 3.0), 21.5), ((3.4, 2.5), 22.0), ((4.4, 2.9), 27.8), ((3.1, 2.5), 20.5), ((3.2, 3.6), 23.2), ((3.5, 3.2), 23.9), ((3.1, 2.7), 20.9), ((3.0, 3.0), 21.0), ((3.4, 2.5), 22.0), ((3.5, 2.8), 23.1), ((2.3, 3.2), 17.9), ((3.2, 3.0), 22.0), ((3.5, 3.8), 25.1), ((3.8, 2.6), 24.2), ((3.0, 2.2), 19.4), ((3.8, 3.2), 25.4), ((3.2, 2.8), 21.6), ((3.7, 2.8), 24.1), ((3.3, 2.7), 21.9), ((3.2, 3.3), 22.6), ((3.2, 3.2), 22.4), ((3.1, 2.8), 21.1), ((2.3, 3.0), 17.5), ((2.8, 2.8), 19.6), ((2.8, 3.0), 20.0), ((3.3, 2.8), 22.1), ((2.4, 3.8), 19.6), ((2.9, 2.8), 20.1), ((2.7, 2.8), 19.1), ((2.0, 2.6), 15.2), ((3.0, 3.0), 21.0), ((2.2, 3.4), 17.8), ((2.9, 3.1), 20.7), ((2.9, 3.0), 20.5), ((3.1, 3.1), 21.7), ((3.0, 3.1), 21.2), ((2.7, 3.1), 19.7), ((2.2, 2.7), 16.4), ((2.5, 3.2), 18.9), ((3.2, 3.3), 22.6), ((2.8, 3.0), 20.0), ((2.5, 2.5), 17.5), ((2.8, 3.0), 20.0), ((2.9, 3.4), 21.3), ((3.0, 3.0), 21.0)]\n"
          ]
        }
      ]
    },
    {
      "cell_type": "code",
      "metadata": {
        "colab": {
          "base_uri": "https://localhost:8080/",
          "height": 302
        },
        "id": "EsqOJkmLWWzU",
        "outputId": "f57f079f-b686-4358-98b5-8f1540dff204"
      },
      "source": [
        "## Add Noise\n",
        "import random\n",
        "import numpy as np\n",
        "import matplotlib.pyplot as plt\n",
        "import math\n",
        "\n",
        "EPS = 30\n",
        "yNoise = [round(y+random.random()*EPS-EPS/2,2) for y in Y]\n",
        "TrainingData2 = zip(data, yNoise)\n",
        "print(list(TrainingData2))\n",
        "\n",
        "plt.plot(dataX1, Y, \"g\")\n",
        "plt.plot(dataX1, yNoise, \"b+\")\n",
        "plt.show()"
      ],
      "execution_count": 59,
      "outputs": [
        {
          "output_type": "stream",
          "name": "stdout",
          "text": [
            "[((3.5, 3.0), 37.55), ((3.0, 2.8), 31.53), ((3.2, 3.0), 23.51), ((3.1, 2.9), 10.7), ((3.6, 2.6), 28.19), ((3.9, 2.4), 34.51), ((3.4, 2.4), 21.11), ((3.4, 2.7), 25.72), ((2.9, 2.7), 6.43), ((3.1, 3.0), 15.19), ((3.7, 3.4), 24.8), ((3.4, 3.1), 24.09), ((3.0, 2.3), 17.91), ((3.0, 3.0), 34.52), ((4.0, 2.5), 28.95), ((4.4, 2.6), 41.11), ((3.9, 3.0), 18.6), ((3.5, 2.6), 11.43), ((3.8, 2.3), 38.4), ((3.8, 2.7), 23.79), ((3.4, 3.0), 18.56), ((3.7, 2.9), 36.41), ((3.6, 2.9), 23.47), ((3.3, 2.5), 12.01), ((3.4, 2.8), 21.22), ((3.0, 3.3), 32.12), ((3.4, 2.7), 23.8), ((3.5, 3.0), 10.12), ((3.4, 2.9), 12.93), ((3.2, 3.0), 23.99), ((3.1, 3.0), 32.59), ((3.4, 2.5), 22.63), ((4.4, 2.9), 32.08), ((3.1, 2.5), 9.57), ((3.2, 3.6), 23.07), ((3.5, 3.2), 32.68), ((3.1, 2.7), 17.25), ((3.0, 3.0), 26.77), ((3.4, 2.5), 32.71), ((3.5, 2.8), 18.3), ((2.3, 3.2), 30.54), ((3.2, 3.0), 34.84), ((3.5, 3.8), 30.81), ((3.8, 2.6), 22.7), ((3.0, 2.2), 12.03), ((3.8, 3.2), 18.01), ((3.2, 2.8), 19.53), ((3.7, 2.8), 19.08), ((3.3, 2.7), 36.6), ((3.2, 3.3), 17.24), ((3.2, 3.2), 23.47), ((3.1, 2.8), 6.34), ((2.3, 3.0), 6.43), ((2.8, 2.8), 31.15), ((2.8, 3.0), 23.41), ((3.3, 2.8), 30.09), ((2.4, 3.8), 31.05), ((2.9, 2.8), 7.28), ((2.7, 2.8), 14.52), ((2.0, 2.6), 2.43), ((3.0, 3.0), 16.86), ((2.2, 3.4), 21.91), ((2.9, 3.1), 10.84), ((2.9, 3.0), 35.29), ((3.1, 3.1), 7.64), ((3.0, 3.1), 6.38), ((2.7, 3.1), 30.2), ((2.2, 2.7), 31.25), ((2.5, 3.2), 26.17), ((3.2, 3.3), 29.36), ((2.8, 3.0), 5.79), ((2.5, 2.5), 13.66), ((2.8, 3.0), 21.56), ((2.9, 3.4), 14.51), ((3.0, 3.0), 34.76)]\n"
          ]
        },
        {
          "output_type": "display_data",
          "data": {
            "image/png": "[encoded data removed]",
            "text/plain": [
              "<Figure size 432x288 with 1 Axes>"
            ]
          },
          "metadata": {
            "needs_background": "light"
          }
        }
      ]
    },
    {
      "cell_type": "code",
      "metadata": {
        "colab": {
          "base_uri": "https://localhost:8080/"
        },
        "id": "-g4aFLiEWdSn",
        "outputId": "beba6bbd-17f0-47b9-9f8d-336db2a747ff"
      },
      "source": [
        "#Testing data, with noice\n",
        "data = [((3.5, 3.0), 23.5), ((3.0, 2.8), 20.6), ((3.2, 3.0), 22.0), ((3.1, 2.9), 21.3), ((3.6, 2.6), 23.2), ((3.9, 2.4), 24.3), ((3.4, 2.4), 21.8), ((3.4, 2.7), 22.4), ((2.9, 2.7), 19.9), ((3.1, 3.0), 21.5), ((3.7, 3.4), 25.3), ((3.4, 3.1), 23.2), ((3.0, 2.3), 19.6), ((3.0, 3.0), 21.0), ((4.0, 2.5), 25.0), ((4.4, 2.6), 27.2), ((3.9, 3.0), 25.5), ((3.5, 2.6), 22.7), ((3.8, 2.3), 23.6), ((3.8, 2.7), 24.4), ((3.4, 3.0), 23.0), ((3.7, 2.9), 24.3), ((3.6, 2.9), 23.8), ((3.3, 2.5), 21.5), ((3.4, 2.8), 22.6), ((3.0, 3.3), 21.6), ((3.4, 2.7), 22.4), ((3.5, 3.0), 23.5), ((3.4, 2.9), 22.8), ((3.2, 3.0), 22.0), ((3.1, 3.0), 21.5), ((3.4, 2.5), 22.0), ((4.4, 2.9), 27.8), ((3.1, 2.5), 20.5), ((3.2, 3.6), 23.2), ((3.5, 3.2), 23.9), ((3.1, 2.7), 20.9), ((3.0, 3.0), 21.0), ((3.4, 2.5), 22.0), ((3.5, 2.8), 23.1), ((2.3, 3.2), 17.9), ((3.2, 3.0), 22.0), ((3.5, 3.8), 25.1), ((3.8, 2.6), 24.2), ((3.0, 2.2), 19.4), ((3.8, 3.2), 25.4), ((3.2, 2.8), 21.6), ((3.7, 2.8), 24.1), ((3.3, 2.7), 21.9), ((3.2, 3.3), 22.6), ((3.2, 3.2), 22.4), ((3.1, 2.8), 21.1), ((2.3, 3.0), 17.5), ((2.8, 2.8), 19.6), ((2.8, 3.0), 20.0), ((3.3, 2.8), 22.1), ((2.4, 3.8), 19.6), ((2.9, 2.8), 20.1), ((2.7, 2.8), 19.1), ((2.0, 2.6), 15.2), ((3.0, 3.0), 21.0), ((2.2, 3.4), 17.8), ((2.9, 3.1), 20.7), ((2.9, 3.0), 20.5), ((3.1, 3.1), 21.7), ((3.0, 3.1), 21.2), ((2.7, 3.1), 19.7), ((2.2, 2.7), 16.4), ((2.5, 3.2), 18.9), ((3.2, 3.3), 22.6), ((2.8, 3.0), 20.0), ((2.5, 2.5), 17.5), ((2.8, 3.0), 20.0), ((2.9, 3.4), 21.3), ((3.0, 3.0), 21.0)]\n",
        "print(data)\n",
        "X = [d for d,_ in data]\n",
        "Y = [y for _, y in data]\n",
        "print(X)\n",
        "print(Y)"
      ],
      "execution_count": 60,
      "outputs": [
        {
          "output_type": "stream",
          "name": "stdout",
          "text": [
            "[((3.5, 3.0), 23.5), ((3.0, 2.8), 20.6), ((3.2, 3.0), 22.0), ((3.1, 2.9), 21.3), ((3.6, 2.6), 23.2), ((3.9, 2.4), 24.3), ((3.4, 2.4), 21.8), ((3.4, 2.7), 22.4), ((2.9, 2.7), 19.9), ((3.1, 3.0), 21.5), ((3.7, 3.4), 25.3), ((3.4, 3.1), 23.2), ((3.0, 2.3), 19.6), ((3.0, 3.0), 21.0), ((4.0, 2.5), 25.0), ((4.4, 2.6), 27.2), ((3.9, 3.0), 25.5), ((3.5, 2.6), 22.7), ((3.8, 2.3), 23.6), ((3.8, 2.7), 24.4), ((3.4, 3.0), 23.0), ((3.7, 2.9), 24.3), ((3.6, 2.9), 23.8), ((3.3, 2.5), 21.5), ((3.4, 2.8), 22.6), ((3.0, 3.3), 21.6), ((3.4, 2.7), 22.4), ((3.5, 3.0), 23.5), ((3.4, 2.9), 22.8), ((3.2, 3.0), 22.0), ((3.1, 3.0), 21.5), ((3.4, 2.5), 22.0), ((4.4, 2.9), 27.8), ((3.1, 2.5), 20.5), ((3.2, 3.6), 23.2), ((3.5, 3.2), 23.9), ((3.1, 2.7), 20.9), ((3.0, 3.0), 21.0), ((3.4, 2.5), 22.0), ((3.5, 2.8), 23.1), ((2.3, 3.2), 17.9), ((3.2, 3.0), 22.0), ((3.5, 3.8), 25.1), ((3.8, 2.6), 24.2), ((3.0, 2.2), 19.4), ((3.8, 3.2), 25.4), ((3.2, 2.8), 21.6), ((3.7, 2.8), 24.1), ((3.3, 2.7), 21.9), ((3.2, 3.3), 22.6), ((3.2, 3.2), 22.4), ((3.1, 2.8), 21.1), ((2.3, 3.0), 17.5), ((2.8, 2.8), 19.6), ((2.8, 3.0), 20.0), ((3.3, 2.8), 22.1), ((2.4, 3.8), 19.6), ((2.9, 2.8), 20.1), ((2.7, 2.8), 19.1), ((2.0, 2.6), 15.2), ((3.0, 3.0), 21.0), ((2.2, 3.4), 17.8), ((2.9, 3.1), 20.7), ((2.9, 3.0), 20.5), ((3.1, 3.1), 21.7), ((3.0, 3.1), 21.2), ((2.7, 3.1), 19.7), ((2.2, 2.7), 16.4), ((2.5, 3.2), 18.9), ((3.2, 3.3), 22.6), ((2.8, 3.0), 20.0), ((2.5, 2.5), 17.5), ((2.8, 3.0), 20.0), ((2.9, 3.4), 21.3), ((3.0, 3.0), 21.0)]\n",
            "[(3.5, 3.0), (3.0, 2.8), (3.2, 3.0), (3.1, 2.9), (3.6, 2.6), (3.9, 2.4), (3.4, 2.4), (3.4, 2.7), (2.9, 2.7), (3.1, 3.0), (3.7, 3.4), (3.4, 3.1), (3.0, 2.3), (3.0, 3.0), (4.0, 2.5), (4.4, 2.6), (3.9, 3.0), (3.5, 2.6), (3.8, 2.3), (3.8, 2.7), (3.4, 3.0), (3.7, 2.9), (3.6, 2.9), (3.3, 2.5), (3.4, 2.8), (3.0, 3.3), (3.4, 2.7), (3.5, 3.0), (3.4, 2.9), (3.2, 3.0), (3.1, 3.0), (3.4, 2.5), (4.4, 2.9), (3.1, 2.5), (3.2, 3.6), (3.5, 3.2), (3.1, 2.7), (3.0, 3.0), (3.4, 2.5), (3.5, 2.8), (2.3, 3.2), (3.2, 3.0), (3.5, 3.8), (3.8, 2.6), (3.0, 2.2), (3.8, 3.2), (3.2, 2.8), (3.7, 2.8), (3.3, 2.7), (3.2, 3.3), (3.2, 3.2), (3.1, 2.8), (2.3, 3.0), (2.8, 2.8), (2.8, 3.0), (3.3, 2.8), (2.4, 3.8), (2.9, 2.8), (2.7, 2.8), (2.0, 2.6), (3.0, 3.0), (2.2, 3.4), (2.9, 3.1), (2.9, 3.0), (3.1, 3.1), (3.0, 3.1), (2.7, 3.1), (2.2, 2.7), (2.5, 3.2), (3.2, 3.3), (2.8, 3.0), (2.5, 2.5), (2.8, 3.0), (2.9, 3.4), (3.0, 3.0)]\n",
            "[23.5, 20.6, 22.0, 21.3, 23.2, 24.3, 21.8, 22.4, 19.9, 21.5, 25.3, 23.2, 19.6, 21.0, 25.0, 27.2, 25.5, 22.7, 23.6, 24.4, 23.0, 24.3, 23.8, 21.5, 22.6, 21.6, 22.4, 23.5, 22.8, 22.0, 21.5, 22.0, 27.8, 20.5, 23.2, 23.9, 20.9, 21.0, 22.0, 23.1, 17.9, 22.0, 25.1, 24.2, 19.4, 25.4, 21.6, 24.1, 21.9, 22.6, 22.4, 21.1, 17.5, 19.6, 20.0, 22.1, 19.6, 20.1, 19.1, 15.2, 21.0, 17.8, 20.7, 20.5, 21.7, 21.2, 19.7, 16.4, 18.9, 22.6, 20.0, 17.5, 20.0, 21.3, 21.0]\n"
          ]
        }
      ]
    },
    {
      "cell_type": "code",
      "metadata": {
        "id": "p_br0LUJXxOX"
      },
      "source": [
        "alpha=0.01\n",
        "model=[0, 0]\n",
        "Errors = []"
      ],
      "execution_count": 61,
      "outputs": []
    },
    {
      "cell_type": "code",
      "metadata": {
        "colab": {
          "base_uri": "https://localhost:8080/"
        },
        "id": "MZByg6i3Xy2X",
        "outputId": "ef4958d4-587c-4e31-d45d-699f80c22809"
      },
      "source": [
        "# Calculate Predicted\n",
        "\n",
        "yPredicted = [F(model, x) for x in X]\n",
        "print(yPredicted)"
      ],
      "execution_count": 62,
      "outputs": [
        {
          "output_type": "stream",
          "name": "stdout",
          "text": [
            "[0.0, 0.0, 0.0, 0.0, 0.0, 0.0, 0.0, 0.0, 0.0, 0.0, 0.0, 0.0, 0.0, 0.0, 0.0, 0.0, 0.0, 0.0, 0.0, 0.0, 0.0, 0.0, 0.0, 0.0, 0.0, 0.0, 0.0, 0.0, 0.0, 0.0, 0.0, 0.0, 0.0, 0.0, 0.0, 0.0, 0.0, 0.0, 0.0, 0.0, 0.0, 0.0, 0.0, 0.0, 0.0, 0.0, 0.0, 0.0, 0.0, 0.0, 0.0, 0.0, 0.0, 0.0, 0.0, 0.0, 0.0, 0.0, 0.0, 0.0, 0.0, 0.0, 0.0, 0.0, 0.0, 0.0, 0.0, 0.0, 0.0, 0.0, 0.0, 0.0, 0.0, 0.0, 0.0]\n"
          ]
        }
      ]
    },
    {
      "cell_type": "code",
      "metadata": {
        "colab": {
          "base_uri": "https://localhost:8080/"
        },
        "id": "_aSvj596X5xM",
        "outputId": "04153aa2-60c7-4e30-addc-691b6172ef58"
      },
      "source": [
        "# Evaluate Model\n",
        "Error = sum([(r-y)**2.0 for r,y in zip(Y, yPredicted)])\n",
        "print(\"With Model=\", model, \"Error=\", Error)\n",
        "Errors.append([model, Error])\n",
        "print (\"History w/ Alpha=\", alpha, \"=\")\n",
        "print (Errors)\n",
        "print(\"Next\")\n",
        "for i in range(len(Errors)):\n",
        "  print(\"Iterations=\",i+1,\":=\",Errors[i])"
      ],
      "execution_count": 63,
      "outputs": [
        {
          "output_type": "stream",
          "name": "stdout",
          "text": [
            "With Model= [0, 0] Error= 35934.04\n",
            "History w/ Alpha= 0.01 =\n",
            "[[[0, 0], 35934.04]]\n",
            "Next\n",
            "Iterations= 1 := [[0, 0], 35934.04]\n"
          ]
        }
      ]
    },
    {
      "cell_type": "code",
      "metadata": {
        "colab": {
          "base_uri": "https://localhost:8080/"
        },
        "id": "EWff-biJX5kh",
        "outputId": "e6cb891f-b98e-4aa0-f0c9-e7ca4ca71dff"
      },
      "source": [
        "deltaX0 = 1/len(Y)*sum( [(-2*(r-y)*x[0]) for r,y,x in zip(Y, yPredicted, X)] )\n",
        "deltaX1 = 1/len(Y)*sum( [(-2*(r-y)*x[1]) for r,y,x in zip(Y, yPredicted, X)] )\n",
        "\n",
        "print(deltaX0)\n",
        "print(deltaX1)"
      ],
      "execution_count": 64,
      "outputs": [
        {
          "output_type": "stream",
          "name": "stdout",
          "text": [
            "-141.04906666666668\n",
            "-126.49786666666668\n"
          ]
        }
      ]
    },
    {
      "cell_type": "code",
      "metadata": {
        "colab": {
          "base_uri": "https://localhost:8080/"
        },
        "id": "623UcbJBX5XR",
        "outputId": "2c226597-3e30-455a-d23e-9397a5573c56"
      },
      "source": [
        "model = [model[0]-alpha*deltaX0, model[1]-alpha*deltaX1]\n",
        "print(model)"
      ],
      "execution_count": 65,
      "outputs": [
        {
          "output_type": "stream",
          "name": "stdout",
          "text": [
            "[1.4104906666666668, 1.264978666666667]\n"
          ]
        }
      ]
    },
    {
      "cell_type": "code",
      "metadata": {
        "colab": {
          "base_uri": "https://localhost:8080/",
          "height": 265
        },
        "id": "bpbP6jqOX5Jr",
        "outputId": "944ed112-ee8a-481a-dc66-e7f059ff18c7"
      },
      "source": [
        "#Plot learned model with data\n",
        "dataX1 = [x[1] for x, y in data]\n",
        "plt.plot(dataX1, yPredicted, \"b\")\n",
        "plt.plot(dataX1, Y, \"g+\")\n",
        "plt.show()"
      ],
      "execution_count": 66,
      "outputs": [
        {
          "output_type": "display_data",
          "data": {
            "image/png": "[encoded data removed]",
            "text/plain": [
              "<Figure size 432x288 with 1 Axes>"
            ]
          },
          "metadata": {
            "needs_background": "light"
          }
        }
      ]
    },
    {
      "cell_type": "code",
      "metadata": {
        "colab": {
          "base_uri": "https://localhost:8080/"
        },
        "id": "8_w7CRkcYTQq",
        "outputId": "ae7744d8-1018-4394-d616-e319dead7f3f"
      },
      "source": [
        "#Testing data, no noice\n",
        "data = [((3.5, 3.0), 23), ((3.0, 2.8), 20), ((3.2, 3.0), 22), ((3.1, 2.9), 21), ((3.6, 2.6), 23), ((3.9, 2.4), 24), ((3.4, 2.4), 21), ((3.4, 2.7), 22), ((2.9, 2.7), 19), ((3.1, 3.0), 21), ((3.7, 3.4), 25), ((3.4, 3.1), 23), ((3.0, 2.3), 19), ((3.0, 3.0), 21), ((4.0, 2.5), 25), ((4.4, 2.6), 27), ((3.9, 3.0), 25), ((3.5, 2.6), 22), ((3.8, 2.3), 23), ((3.8, 2.7), 24), ((3.4, 3.0), 23), ((3.7, 2.9), 24), ((3.6, 2.9), 23), ((3.3, 2.5), 21), ((3.4, 2.8), 22), ((3.0, 3.3), 21), ((3.4, 2.7), 22), ((3.5, 3.0), 23), ((3.4, 2.9), 22), ((3.2, 3.0), 22), ((3.1, 3.0), 21), ((3.4, 2.5), 22), ((4.4, 2.9), 27), ((3.1, 2.5), 20), ((3.2, 3.6), 23), ((3.5, 3.2), 23), ((3.1, 2.7), 20), ((3.0, 3.0), 21), ((3.4, 2.5), 22), ((3.5, 2.8), 23), ((2.3, 3.2), 17), ((3.2, 3.0), 22), ((3.5, 3.8), 25), ((3.8, 2.6), 24), ((3.0, 2.2), 19), ((3.8, 3.2), 25), ((3.2, 2.8), 21), ((3.7, 2.8), 24), ((3.3, 2.7), 21), ((3.2, 3.3), 22), ((3.2, 3.2), 22), ((3.1, 2.8), 21), ((2.3, 3.0), 17), ((2.8, 2.8), 19), ((2.8, 3.0), 20), ((3.3, 2.8), 22), ((2.4, 3.8), 19), ((2.9, 2.8), 20), ((2.7, 2.8), 19), ((2.0, 2.6), 15), ((3.0, 3.0), 21), ((2.2, 3.4), 17), ((2.9, 3.1), 20), ((2.9, 3.0), 20), ((3.1, 3.1), 21), ((3.0, 3.1), 21), ((2.7, 3.1), 19), ((2.2, 2.7), 16), ((2.5, 3), 18), ((3.2, 3), 22), ((2.8, 3), 20), ((2.5, 2), 17), ((2.8, 3), 20), ((2.9, 3), 21), ((3.0, 3), 21)]\n",
        "print(data)\n",
        "X = [d for d,_ in data]\n",
        "Y = [y for _, y in data]\n",
        "print(X)\n",
        "print(Y)"
      ],
      "execution_count": 67,
      "outputs": [
        {
          "output_type": "stream",
          "name": "stdout",
          "text": [
            "[((3.5, 3.0), 23), ((3.0, 2.8), 20), ((3.2, 3.0), 22), ((3.1, 2.9), 21), ((3.6, 2.6), 23), ((3.9, 2.4), 24), ((3.4, 2.4), 21), ((3.4, 2.7), 22), ((2.9, 2.7), 19), ((3.1, 3.0), 21), ((3.7, 3.4), 25), ((3.4, 3.1), 23), ((3.0, 2.3), 19), ((3.0, 3.0), 21), ((4.0, 2.5), 25), ((4.4, 2.6), 27), ((3.9, 3.0), 25), ((3.5, 2.6), 22), ((3.8, 2.3), 23), ((3.8, 2.7), 24), ((3.4, 3.0), 23), ((3.7, 2.9), 24), ((3.6, 2.9), 23), ((3.3, 2.5), 21), ((3.4, 2.8), 22), ((3.0, 3.3), 21), ((3.4, 2.7), 22), ((3.5, 3.0), 23), ((3.4, 2.9), 22), ((3.2, 3.0), 22), ((3.1, 3.0), 21), ((3.4, 2.5), 22), ((4.4, 2.9), 27), ((3.1, 2.5), 20), ((3.2, 3.6), 23), ((3.5, 3.2), 23), ((3.1, 2.7), 20), ((3.0, 3.0), 21), ((3.4, 2.5), 22), ((3.5, 2.8), 23), ((2.3, 3.2), 17), ((3.2, 3.0), 22), ((3.5, 3.8), 25), ((3.8, 2.6), 24), ((3.0, 2.2), 19), ((3.8, 3.2), 25), ((3.2, 2.8), 21), ((3.7, 2.8), 24), ((3.3, 2.7), 21), ((3.2, 3.3), 22), ((3.2, 3.2), 22), ((3.1, 2.8), 21), ((2.3, 3.0), 17), ((2.8, 2.8), 19), ((2.8, 3.0), 20), ((3.3, 2.8), 22), ((2.4, 3.8), 19), ((2.9, 2.8), 20), ((2.7, 2.8), 19), ((2.0, 2.6), 15), ((3.0, 3.0), 21), ((2.2, 3.4), 17), ((2.9, 3.1), 20), ((2.9, 3.0), 20), ((3.1, 3.1), 21), ((3.0, 3.1), 21), ((2.7, 3.1), 19), ((2.2, 2.7), 16), ((2.5, 3), 18), ((3.2, 3), 22), ((2.8, 3), 20), ((2.5, 2), 17), ((2.8, 3), 20), ((2.9, 3), 21), ((3.0, 3), 21)]\n",
            "[(3.5, 3.0), (3.0, 2.8), (3.2, 3.0), (3.1, 2.9), (3.6, 2.6), (3.9, 2.4), (3.4, 2.4), (3.4, 2.7), (2.9, 2.7), (3.1, 3.0), (3.7, 3.4), (3.4, 3.1), (3.0, 2.3), (3.0, 3.0), (4.0, 2.5), (4.4, 2.6), (3.9, 3.0), (3.5, 2.6), (3.8, 2.3), (3.8, 2.7), (3.4, 3.0), (3.7, 2.9), (3.6, 2.9), (3.3, 2.5), (3.4, 2.8), (3.0, 3.3), (3.4, 2.7), (3.5, 3.0), (3.4, 2.9), (3.2, 3.0), (3.1, 3.0), (3.4, 2.5), (4.4, 2.9), (3.1, 2.5), (3.2, 3.6), (3.5, 3.2), (3.1, 2.7), (3.0, 3.0), (3.4, 2.5), (3.5, 2.8), (2.3, 3.2), (3.2, 3.0), (3.5, 3.8), (3.8, 2.6), (3.0, 2.2), (3.8, 3.2), (3.2, 2.8), (3.7, 2.8), (3.3, 2.7), (3.2, 3.3), (3.2, 3.2), (3.1, 2.8), (2.3, 3.0), (2.8, 2.8), (2.8, 3.0), (3.3, 2.8), (2.4, 3.8), (2.9, 2.8), (2.7, 2.8), (2.0, 2.6), (3.0, 3.0), (2.2, 3.4), (2.9, 3.1), (2.9, 3.0), (3.1, 3.1), (3.0, 3.1), (2.7, 3.1), (2.2, 2.7), (2.5, 3), (3.2, 3), (2.8, 3), (2.5, 2), (2.8, 3), (2.9, 3), (3.0, 3)]\n",
            "[23, 20, 22, 21, 23, 24, 21, 22, 19, 21, 25, 23, 19, 21, 25, 27, 25, 22, 23, 24, 23, 24, 23, 21, 22, 21, 22, 23, 22, 22, 21, 22, 27, 20, 23, 23, 20, 21, 22, 23, 17, 22, 25, 24, 19, 25, 21, 24, 21, 22, 22, 21, 17, 19, 20, 22, 19, 20, 19, 15, 21, 17, 20, 20, 21, 21, 19, 16, 18, 22, 20, 17, 20, 21, 21]\n"
          ]
        }
      ]
    },
    {
      "cell_type": "code",
      "metadata": {
        "id": "mbOxkXPZZyt5"
      },
      "source": [
        "alpha=0.01\n",
        "model=[0, 0]\n",
        "Errors = []"
      ],
      "execution_count": 68,
      "outputs": []
    },
    {
      "cell_type": "code",
      "metadata": {
        "colab": {
          "base_uri": "https://localhost:8080/"
        },
        "id": "7VL011dcZ09t",
        "outputId": "9227ab86-c1d2-4061-9d61-1232533309aa"
      },
      "source": [
        "# Calculate Predicted\n",
        "\n",
        "yPredicted = [F(model, x) for x in X]\n",
        "print(yPredicted)"
      ],
      "execution_count": 69,
      "outputs": [
        {
          "output_type": "stream",
          "name": "stdout",
          "text": [
            "[0.0, 0.0, 0.0, 0.0, 0.0, 0.0, 0.0, 0.0, 0.0, 0.0, 0.0, 0.0, 0.0, 0.0, 0.0, 0.0, 0.0, 0.0, 0.0, 0.0, 0.0, 0.0, 0.0, 0.0, 0.0, 0.0, 0.0, 0.0, 0.0, 0.0, 0.0, 0.0, 0.0, 0.0, 0.0, 0.0, 0.0, 0.0, 0.0, 0.0, 0.0, 0.0, 0.0, 0.0, 0.0, 0.0, 0.0, 0.0, 0.0, 0.0, 0.0, 0.0, 0.0, 0.0, 0.0, 0.0, 0.0, 0.0, 0.0, 0.0, 0.0, 0.0, 0.0, 0.0, 0.0, 0.0, 0.0, 0.0, 0.0, 0.0, 0.0, 0.0, 0.0, 0.0, 0.0]\n"
          ]
        }
      ]
    },
    {
      "cell_type": "code",
      "metadata": {
        "colab": {
          "base_uri": "https://localhost:8080/"
        },
        "id": "qyde2w6fZ0vG",
        "outputId": "e1cd59c0-6b83-45ca-8fda-173d2c0afe14"
      },
      "source": [
        "# Evaluate Model\n",
        "Error = sum([(r-y)**2.0 for r,y in zip(Y, yPredicted)])\n",
        "print(\"With Model=\", model, \"Error=\", Error)\n",
        "Errors.append([model, Error])\n",
        "print (\"History w/ Alpha=\", alpha, \"=\")\n",
        "print (Errors)\n",
        "print(\"Next\")\n",
        "for i in range(len(Errors)):\n",
        "  print(\"Iterations=\",i+1,\":=\",Errors[i])"
      ],
      "execution_count": 70,
      "outputs": [
        {
          "output_type": "stream",
          "name": "stdout",
          "text": [
            "With Model= [0, 0] Error= 34673.0\n",
            "History w/ Alpha= 0.01 =\n",
            "[[[0, 0], 34673.0]]\n",
            "Next\n",
            "Iterations= 1 := [[0, 0], 34673.0]\n"
          ]
        }
      ]
    },
    {
      "cell_type": "code",
      "metadata": {
        "colab": {
          "base_uri": "https://localhost:8080/"
        },
        "id": "yVgAc93xZ0iW",
        "outputId": "3195c889-5b51-45dc-f339-7dfe9310032b"
      },
      "source": [
        "deltaX0 = 1/len(Y)*sum( [(-2*(r-y)*x[0]) for r,y,x in zip(Y, yPredicted, X)] )\n",
        "deltaX1 = 1/len(Y)*sum( [(-2*(r-y)*x[1]) for r,y,x in zip(Y, yPredicted, X)] )\n",
        "\n",
        "print(deltaX0)\n",
        "print(deltaX1)"
      ],
      "execution_count": 71,
      "outputs": [
        {
          "output_type": "stream",
          "name": "stdout",
          "text": [
            "-138.55733333333336\n",
            "-123.47733333333333\n"
          ]
        }
      ]
    },
    {
      "cell_type": "code",
      "metadata": {
        "colab": {
          "base_uri": "https://localhost:8080/"
        },
        "id": "CFQTJ4OKZ0UA",
        "outputId": "29ab97d2-8232-4aa5-a871-29d3dc876c55"
      },
      "source": [
        "model = [model[0]-alpha*deltaX0, model[1]-alpha*deltaX1]\n",
        "print(model)"
      ],
      "execution_count": 72,
      "outputs": [
        {
          "output_type": "stream",
          "name": "stdout",
          "text": [
            "[1.3855733333333335, 1.2347733333333333]\n"
          ]
        }
      ]
    },
    {
      "cell_type": "code",
      "metadata": {
        "colab": {
          "base_uri": "https://localhost:8080/",
          "height": 265
        },
        "id": "iUnpqDKfaKKZ",
        "outputId": "ed3cb480-ed46-497f-d303-1806cab67b07"
      },
      "source": [
        "#Plot learned model with data\n",
        "dataX1 = [x[1] for x, y in data]\n",
        "plt.plot(dataX1, yPredicted, \"b\")\n",
        "plt.plot(dataX1, Y, \"g+\")\n",
        "plt.show()"
      ],
      "execution_count": 73,
      "outputs": [
        {
          "output_type": "display_data",
          "data": {
            "image/png": "[encoded data removed]",
            "text/plain": [
              "<Figure size 432x288 with 1 Axes>"
            ]
          },
          "metadata": {
            "needs_background": "light"
          }
        }
      ]
    },
    {
      "cell_type": "markdown",
      "metadata": {
        "id": "qebmwD8V3duK"
      },
      "source": [
        "**Petal length in cm**"
      ]
    },
    {
      "cell_type": "code",
      "metadata": {
        "colab": {
          "base_uri": "https://localhost:8080/"
        },
        "id": "90Ij9nrI3kSN",
        "outputId": "904837b6-f28e-41f8-d761-0c9b5c107648"
      },
      "source": [
        "Weights = [5, 2] # F(X) = 5x_0 + 2x_1\n",
        "F = lambda W, X: sum([w*x for w,x in zip(W,X)])\n",
        "\n",
        "#Getting the IRIS data\n",
        "dataX1 = [1.4,1.4,1.3,1.5,1.4,1.7,1.4,1.5,1.4,1.5,1.5,1.6,1.4,1.1,1.2,1.5,1.3,1.4,1.7,1.5,1.7,1.5,1.0,1.7,1.9,1.6,1.6,1.5,1.4,1.6,1.6,1.5,1.5,1.4,1.5,1.2,1.3,1.5,1.3,1.5,1.3,1.3,1.3,1.6,1.9,1.4,1.6,1.4,1.5,1.4,4.7,4.5,4.9,4.0,4.6,4.5,4.7,3.3,4.6,3.9,3.5,4.2,4.0,4.7,3.6,4.4,4.5,4.1,4.5,3.9,4.8,4.0,4.9,4.7,4.3]\n",
        "dataX0 = [4.4,4.8,5.0,4.5,3.5,3.8,3.7,3.9,5.1,4.5,4.5,4.7,4.4,4.1,4.0,4.4,4.6,4.0,3.3,4.2,4.2,4.2,4.3,3.0,4.1,6.0,5.1,5.9,5.6,5.8,6.6,4.5,6.3,5.8,6.1,5.1,5.3,5.5,5.0,5.1,5.3,5.5,6.7,6.9,5.0,5.7,4.9,6.7,4.9,5.7,6.0,4.8,4.9,5.6,5.8,6.1,6.4,5.6,5.1,5.6,6.1,5.6,5.5,4.8,5.4,5.6,5.1,5.1,5.9,5.7,5.2,5.0,5.2,5.4,5.1]\n",
        "\n",
        "data = (list(zip(dataX1, dataX0)))\n",
        "print (data)\n",
        "Y = [F(Weights, X) for X in data]\n",
        "print (Y)"
      ],
      "execution_count": 74,
      "outputs": [
        {
          "output_type": "stream",
          "name": "stdout",
          "text": [
            "[(1.4, 4.4), (1.4, 4.8), (1.3, 5.0), (1.5, 4.5), (1.4, 3.5), (1.7, 3.8), (1.4, 3.7), (1.5, 3.9), (1.4, 5.1), (1.5, 4.5), (1.5, 4.5), (1.6, 4.7), (1.4, 4.4), (1.1, 4.1), (1.2, 4.0), (1.5, 4.4), (1.3, 4.6), (1.4, 4.0), (1.7, 3.3), (1.5, 4.2), (1.7, 4.2), (1.5, 4.2), (1.0, 4.3), (1.7, 3.0), (1.9, 4.1), (1.6, 6.0), (1.6, 5.1), (1.5, 5.9), (1.4, 5.6), (1.6, 5.8), (1.6, 6.6), (1.5, 4.5), (1.5, 6.3), (1.4, 5.8), (1.5, 6.1), (1.2, 5.1), (1.3, 5.3), (1.5, 5.5), (1.3, 5.0), (1.5, 5.1), (1.3, 5.3), (1.3, 5.5), (1.3, 6.7), (1.6, 6.9), (1.9, 5.0), (1.4, 5.7), (1.6, 4.9), (1.4, 6.7), (1.5, 4.9), (1.4, 5.7), (4.7, 6.0), (4.5, 4.8), (4.9, 4.9), (4.0, 5.6), (4.6, 5.8), (4.5, 6.1), (4.7, 6.4), (3.3, 5.6), (4.6, 5.1), (3.9, 5.6), (3.5, 6.1), (4.2, 5.6), (4.0, 5.5), (4.7, 4.8), (3.6, 5.4), (4.4, 5.6), (4.5, 5.1), (4.1, 5.1), (4.5, 5.9), (3.9, 5.7), (4.8, 5.2), (4.0, 5.0), (4.9, 5.2), (4.7, 5.4), (4.3, 5.1)]\n",
            "[15.8, 16.6, 16.5, 16.5, 14.0, 16.1, 14.4, 15.3, 17.2, 16.5, 16.5, 17.4, 15.8, 13.7, 14.0, 16.3, 15.7, 15.0, 15.1, 15.9, 16.9, 15.9, 13.6, 14.5, 17.7, 20.0, 18.2, 19.3, 18.2, 19.6, 21.2, 16.5, 20.1, 18.6, 19.7, 16.2, 17.1, 18.5, 16.5, 17.7, 17.1, 17.5, 19.9, 21.8, 19.5, 18.4, 17.8, 20.4, 17.3, 18.4, 35.5, 32.1, 34.3, 31.2, 34.6, 34.7, 36.3, 27.7, 33.2, 30.7, 29.7, 32.2, 31.0, 33.1, 28.8, 33.2, 32.7, 30.7, 34.3, 30.9, 34.4, 30.0, 34.9, 34.3, 31.7]\n"
          ]
        }
      ]
    },
    {
      "cell_type": "code",
      "metadata": {
        "colab": {
          "base_uri": "https://localhost:8080/"
        },
        "id": "VoFdN9GdgoV_",
        "outputId": "7de298c8-f697-4036-ec04-a8cd9cfbf7fb"
      },
      "source": [
        "TrainingData1 = zip(data, Y)\n",
        "\n",
        "print (list(TrainingData1))"
      ],
      "execution_count": 75,
      "outputs": [
        {
          "output_type": "stream",
          "name": "stdout",
          "text": [
            "[((1.4, 4.4), 15.8), ((1.4, 4.8), 16.6), ((1.3, 5.0), 16.5), ((1.5, 4.5), 16.5), ((1.4, 3.5), 14.0), ((1.7, 3.8), 16.1), ((1.4, 3.7), 14.4), ((1.5, 3.9), 15.3), ((1.4, 5.1), 17.2), ((1.5, 4.5), 16.5), ((1.5, 4.5), 16.5), ((1.6, 4.7), 17.4), ((1.4, 4.4), 15.8), ((1.1, 4.1), 13.7), ((1.2, 4.0), 14.0), ((1.5, 4.4), 16.3), ((1.3, 4.6), 15.7), ((1.4, 4.0), 15.0), ((1.7, 3.3), 15.1), ((1.5, 4.2), 15.9), ((1.7, 4.2), 16.9), ((1.5, 4.2), 15.9), ((1.0, 4.3), 13.6), ((1.7, 3.0), 14.5), ((1.9, 4.1), 17.7), ((1.6, 6.0), 20.0), ((1.6, 5.1), 18.2), ((1.5, 5.9), 19.3), ((1.4, 5.6), 18.2), ((1.6, 5.8), 19.6), ((1.6, 6.6), 21.2), ((1.5, 4.5), 16.5), ((1.5, 6.3), 20.1), ((1.4, 5.8), 18.6), ((1.5, 6.1), 19.7), ((1.2, 5.1), 16.2), ((1.3, 5.3), 17.1), ((1.5, 5.5), 18.5), ((1.3, 5.0), 16.5), ((1.5, 5.1), 17.7), ((1.3, 5.3), 17.1), ((1.3, 5.5), 17.5), ((1.3, 6.7), 19.9), ((1.6, 6.9), 21.8), ((1.9, 5.0), 19.5), ((1.4, 5.7), 18.4), ((1.6, 4.9), 17.8), ((1.4, 6.7), 20.4), ((1.5, 4.9), 17.3), ((1.4, 5.7), 18.4), ((4.7, 6.0), 35.5), ((4.5, 4.8), 32.1), ((4.9, 4.9), 34.3), ((4.0, 5.6), 31.2), ((4.6, 5.8), 34.6), ((4.5, 6.1), 34.7), ((4.7, 6.4), 36.3), ((3.3, 5.6), 27.7), ((4.6, 5.1), 33.2), ((3.9, 5.6), 30.7), ((3.5, 6.1), 29.7), ((4.2, 5.6), 32.2), ((4.0, 5.5), 31.0), ((4.7, 4.8), 33.1), ((3.6, 5.4), 28.8), ((4.4, 5.6), 33.2), ((4.5, 5.1), 32.7), ((4.1, 5.1), 30.7), ((4.5, 5.9), 34.3), ((3.9, 5.7), 30.9), ((4.8, 5.2), 34.4), ((4.0, 5.0), 30.0), ((4.9, 5.2), 34.9), ((4.7, 5.4), 34.3), ((4.3, 5.1), 31.7)]\n"
          ]
        }
      ]
    },
    {
      "cell_type": "code",
      "metadata": {
        "colab": {
          "base_uri": "https://localhost:8080/",
          "height": 302
        },
        "id": "_4cUyjFWgoJP",
        "outputId": "5da3bb9d-6370-4da9-8d32-9c57f5b238a6"
      },
      "source": [
        "## Add Noise\n",
        "import random\n",
        "import numpy as np\n",
        "import matplotlib.pyplot as plt\n",
        "import math\n",
        "\n",
        "EPS = 30\n",
        "yNoise = [round(y+random.random()*EPS-EPS/2,2) for y in Y]\n",
        "TrainingData2 = zip(data, yNoise)\n",
        "print(list(TrainingData2))\n",
        "\n",
        "plt.plot(dataX1, Y, \"g\")\n",
        "plt.plot(dataX1, yNoise, \"b+\")\n",
        "plt.show()"
      ],
      "execution_count": 76,
      "outputs": [
        {
          "output_type": "stream",
          "name": "stdout",
          "text": [
            "[((1.4, 4.4), 27.43), ((1.4, 4.8), 6.82), ((1.3, 5.0), 3.02), ((1.5, 4.5), 29.92), ((1.4, 3.5), 8.27), ((1.7, 3.8), 26.56), ((1.4, 3.7), 17.16), ((1.5, 3.9), 19.16), ((1.4, 5.1), 19.25), ((1.5, 4.5), 17.28), ((1.5, 4.5), 25.02), ((1.6, 4.7), 3.37), ((1.4, 4.4), 7.81), ((1.1, 4.1), 15.29), ((1.2, 4.0), 21.24), ((1.5, 4.4), 14.94), ((1.3, 4.6), 16.38), ((1.4, 4.0), 1.4), ((1.7, 3.3), 25.62), ((1.5, 4.2), 16.26), ((1.7, 4.2), 27.41), ((1.5, 4.2), 6.82), ((1.0, 4.3), 4.05), ((1.7, 3.0), 5.71), ((1.9, 4.1), 22.03), ((1.6, 6.0), 9.96), ((1.6, 5.1), 12.78), ((1.5, 5.9), 23.67), ((1.4, 5.6), 5.36), ((1.6, 5.8), 27.13), ((1.6, 6.6), 9.27), ((1.5, 4.5), 27.18), ((1.5, 6.3), 16.97), ((1.4, 5.8), 11.71), ((1.5, 6.1), 33.02), ((1.2, 5.1), 1.3), ((1.3, 5.3), 19.17), ((1.5, 5.5), 19.04), ((1.3, 5.0), 11.51), ((1.5, 5.1), 2.92), ((1.3, 5.3), 30.26), ((1.3, 5.5), 15.01), ((1.3, 6.7), 28.25), ((1.6, 6.9), 28.15), ((1.9, 5.0), 24.78), ((1.4, 5.7), 7.76), ((1.6, 4.9), 27.43), ((1.4, 6.7), 15.32), ((1.5, 4.9), 12.04), ((1.4, 5.7), 26.95), ((4.7, 6.0), 44.26), ((4.5, 4.8), 47.01), ((4.9, 4.9), 29.2), ((4.0, 5.6), 18.09), ((4.6, 5.8), 37.38), ((4.5, 6.1), 43.31), ((4.7, 6.4), 42.22), ((3.3, 5.6), 32.91), ((4.6, 5.1), 41.95), ((3.9, 5.6), 38.67), ((3.5, 6.1), 25.16), ((4.2, 5.6), 25.77), ((4.0, 5.5), 44.7), ((4.7, 4.8), 21.97), ((3.6, 5.4), 37.81), ((4.4, 5.6), 41.69), ((4.5, 5.1), 43.71), ((4.1, 5.1), 44.62), ((4.5, 5.9), 37.85), ((3.9, 5.7), 44.8), ((4.8, 5.2), 27.67), ((4.0, 5.0), 18.08), ((4.9, 5.2), 35.78), ((4.7, 5.4), 45.56), ((4.3, 5.1), 31.28)]\n"
          ]
        },
        {
          "output_type": "display_data",
          "data": {
            "image/png": "[encoded data removed]",
            "text/plain": [
              "<Figure size 432x288 with 1 Axes>"
            ]
          },
          "metadata": {
            "needs_background": "light"
          }
        }
      ]
    },
    {
      "cell_type": "code",
      "metadata": {
        "colab": {
          "base_uri": "https://localhost:8080/"
        },
        "id": "wiTVif7ggn-G",
        "outputId": "bf1bb48a-7189-46da-e8eb-0f06cdba428c"
      },
      "source": [
        "#Testing data, with noice\n",
        "data = [((1.4, 4.4), 15.8), ((1.4, 4.8), 16.6), ((1.3, 5.0), 16.5), ((1.5, 4.5), 16.5), ((1.4, 3.5), 14.0), ((1.7, 3.8), 16.1), ((1.4, 3.7), 14.4), ((1.5, 3.9), 15.3), ((1.4, 5.1), 17.2), ((1.5, 4.5), 16.5), ((1.5, 4.5), 16.5), ((1.6, 4.7), 17.4), ((1.4, 4.4), 15.8), ((1.1, 4.1), 13.7), ((1.2, 4.0), 14.0), ((1.5, 4.4), 16.3), ((1.3, 4.6), 15.7), ((1.4, 4.0), 15.0), ((1.7, 3.3), 15.1), ((1.5, 4.2), 15.9), ((1.7, 4.2), 16.9), ((1.5, 4.2), 15.9), ((1.0, 4.3), 13.6), ((1.7, 3.0), 14.5), ((1.9, 4.1), 17.7), ((1.6, 6.0), 20.0), ((1.6, 5.1), 18.2), ((1.5, 5.9), 19.3), ((1.4, 5.6), 18.2), ((1.6, 5.8), 19.6), ((1.6, 6.6), 21.2), ((1.5, 4.5), 16.5), ((1.5, 6.3), 20.1), ((1.4, 5.8), 18.6), ((1.5, 6.1), 19.7), ((1.2, 5.1), 16.2), ((1.3, 5.3), 17.1), ((1.5, 5.5), 18.5), ((1.3, 5.0), 16.5), ((1.5, 5.1), 17.7), ((1.3, 5.3), 17.1), ((1.3, 5.5), 17.5), ((1.3, 6.7), 19.9), ((1.6, 6.9), 21.8), ((1.9, 5.0), 19.5), ((1.4, 5.7), 18.4), ((1.6, 4.9), 17.8), ((1.4, 6.7), 20.4), ((1.5, 4.9), 17.3), ((1.4, 5.7), 18.4), ((4.7, 6.0), 35.5), ((4.5, 4.8), 32.1), ((4.9, 4.9), 34.3), ((4.0, 5.6), 31.2), ((4.6, 5.8), 34.6), ((4.5, 6.1), 34.7), ((4.7, 6.4), 36.3), ((3.3, 5.6), 27.7), ((4.6, 5.1), 33.2), ((3.9, 5.6), 30.7), ((3.5, 6.1), 29.7), ((4.2, 5.6), 32.2), ((4.0, 5.5), 31.0), ((4.7, 4.8), 33.1), ((3.6, 5.4), 28.8), ((4.4, 5.6), 33.2), ((4.5, 5.1), 32.7), ((4.1, 5.1), 30.7), ((4.5, 5.9), 34.3), ((3.9, 5.7), 30.9), ((4.8, 5.2), 34.4), ((4.0, 5.0), 30.0), ((4.9, 5.2), 34.9), ((4.7, 5.4), 34.3), ((4.3, 5.1), 31.7)]\n",
        "print(data)\n",
        "X = [d for d,_ in data]\n",
        "Y = [y for _, y in data]\n",
        "print(X)\n",
        "print(Y)"
      ],
      "execution_count": 77,
      "outputs": [
        {
          "output_type": "stream",
          "name": "stdout",
          "text": [
            "[((1.4, 4.4), 15.8), ((1.4, 4.8), 16.6), ((1.3, 5.0), 16.5), ((1.5, 4.5), 16.5), ((1.4, 3.5), 14.0), ((1.7, 3.8), 16.1), ((1.4, 3.7), 14.4), ((1.5, 3.9), 15.3), ((1.4, 5.1), 17.2), ((1.5, 4.5), 16.5), ((1.5, 4.5), 16.5), ((1.6, 4.7), 17.4), ((1.4, 4.4), 15.8), ((1.1, 4.1), 13.7), ((1.2, 4.0), 14.0), ((1.5, 4.4), 16.3), ((1.3, 4.6), 15.7), ((1.4, 4.0), 15.0), ((1.7, 3.3), 15.1), ((1.5, 4.2), 15.9), ((1.7, 4.2), 16.9), ((1.5, 4.2), 15.9), ((1.0, 4.3), 13.6), ((1.7, 3.0), 14.5), ((1.9, 4.1), 17.7), ((1.6, 6.0), 20.0), ((1.6, 5.1), 18.2), ((1.5, 5.9), 19.3), ((1.4, 5.6), 18.2), ((1.6, 5.8), 19.6), ((1.6, 6.6), 21.2), ((1.5, 4.5), 16.5), ((1.5, 6.3), 20.1), ((1.4, 5.8), 18.6), ((1.5, 6.1), 19.7), ((1.2, 5.1), 16.2), ((1.3, 5.3), 17.1), ((1.5, 5.5), 18.5), ((1.3, 5.0), 16.5), ((1.5, 5.1), 17.7), ((1.3, 5.3), 17.1), ((1.3, 5.5), 17.5), ((1.3, 6.7), 19.9), ((1.6, 6.9), 21.8), ((1.9, 5.0), 19.5), ((1.4, 5.7), 18.4), ((1.6, 4.9), 17.8), ((1.4, 6.7), 20.4), ((1.5, 4.9), 17.3), ((1.4, 5.7), 18.4), ((4.7, 6.0), 35.5), ((4.5, 4.8), 32.1), ((4.9, 4.9), 34.3), ((4.0, 5.6), 31.2), ((4.6, 5.8), 34.6), ((4.5, 6.1), 34.7), ((4.7, 6.4), 36.3), ((3.3, 5.6), 27.7), ((4.6, 5.1), 33.2), ((3.9, 5.6), 30.7), ((3.5, 6.1), 29.7), ((4.2, 5.6), 32.2), ((4.0, 5.5), 31.0), ((4.7, 4.8), 33.1), ((3.6, 5.4), 28.8), ((4.4, 5.6), 33.2), ((4.5, 5.1), 32.7), ((4.1, 5.1), 30.7), ((4.5, 5.9), 34.3), ((3.9, 5.7), 30.9), ((4.8, 5.2), 34.4), ((4.0, 5.0), 30.0), ((4.9, 5.2), 34.9), ((4.7, 5.4), 34.3), ((4.3, 5.1), 31.7)]\n",
            "[(1.4, 4.4), (1.4, 4.8), (1.3, 5.0), (1.5, 4.5), (1.4, 3.5), (1.7, 3.8), (1.4, 3.7), (1.5, 3.9), (1.4, 5.1), (1.5, 4.5), (1.5, 4.5), (1.6, 4.7), (1.4, 4.4), (1.1, 4.1), (1.2, 4.0), (1.5, 4.4), (1.3, 4.6), (1.4, 4.0), (1.7, 3.3), (1.5, 4.2), (1.7, 4.2), (1.5, 4.2), (1.0, 4.3), (1.7, 3.0), (1.9, 4.1), (1.6, 6.0), (1.6, 5.1), (1.5, 5.9), (1.4, 5.6), (1.6, 5.8), (1.6, 6.6), (1.5, 4.5), (1.5, 6.3), (1.4, 5.8), (1.5, 6.1), (1.2, 5.1), (1.3, 5.3), (1.5, 5.5), (1.3, 5.0), (1.5, 5.1), (1.3, 5.3), (1.3, 5.5), (1.3, 6.7), (1.6, 6.9), (1.9, 5.0), (1.4, 5.7), (1.6, 4.9), (1.4, 6.7), (1.5, 4.9), (1.4, 5.7), (4.7, 6.0), (4.5, 4.8), (4.9, 4.9), (4.0, 5.6), (4.6, 5.8), (4.5, 6.1), (4.7, 6.4), (3.3, 5.6), (4.6, 5.1), (3.9, 5.6), (3.5, 6.1), (4.2, 5.6), (4.0, 5.5), (4.7, 4.8), (3.6, 5.4), (4.4, 5.6), (4.5, 5.1), (4.1, 5.1), (4.5, 5.9), (3.9, 5.7), (4.8, 5.2), (4.0, 5.0), (4.9, 5.2), (4.7, 5.4), (4.3, 5.1)]\n",
            "[15.8, 16.6, 16.5, 16.5, 14.0, 16.1, 14.4, 15.3, 17.2, 16.5, 16.5, 17.4, 15.8, 13.7, 14.0, 16.3, 15.7, 15.0, 15.1, 15.9, 16.9, 15.9, 13.6, 14.5, 17.7, 20.0, 18.2, 19.3, 18.2, 19.6, 21.2, 16.5, 20.1, 18.6, 19.7, 16.2, 17.1, 18.5, 16.5, 17.7, 17.1, 17.5, 19.9, 21.8, 19.5, 18.4, 17.8, 20.4, 17.3, 18.4, 35.5, 32.1, 34.3, 31.2, 34.6, 34.7, 36.3, 27.7, 33.2, 30.7, 29.7, 32.2, 31.0, 33.1, 28.8, 33.2, 32.7, 30.7, 34.3, 30.9, 34.4, 30.0, 34.9, 34.3, 31.7]\n"
          ]
        }
      ]
    },
    {
      "cell_type": "code",
      "metadata": {
        "id": "1Miygw41gnvK"
      },
      "source": [
        "alpha=0.01\n",
        "model=[0, 0]\n",
        "Errors = []"
      ],
      "execution_count": 78,
      "outputs": []
    },
    {
      "cell_type": "code",
      "metadata": {
        "colab": {
          "base_uri": "https://localhost:8080/"
        },
        "id": "6EsKNJiihPiI",
        "outputId": "ed089c15-cf35-4827-bf12-0cfe86bc53e7"
      },
      "source": [
        "# Calculate Predicted\n",
        "\n",
        "yPredicted = [F(model, x) for x in X]\n",
        "print(yPredicted)"
      ],
      "execution_count": 79,
      "outputs": [
        {
          "output_type": "stream",
          "name": "stdout",
          "text": [
            "[0.0, 0.0, 0.0, 0.0, 0.0, 0.0, 0.0, 0.0, 0.0, 0.0, 0.0, 0.0, 0.0, 0.0, 0.0, 0.0, 0.0, 0.0, 0.0, 0.0, 0.0, 0.0, 0.0, 0.0, 0.0, 0.0, 0.0, 0.0, 0.0, 0.0, 0.0, 0.0, 0.0, 0.0, 0.0, 0.0, 0.0, 0.0, 0.0, 0.0, 0.0, 0.0, 0.0, 0.0, 0.0, 0.0, 0.0, 0.0, 0.0, 0.0, 0.0, 0.0, 0.0, 0.0, 0.0, 0.0, 0.0, 0.0, 0.0, 0.0, 0.0, 0.0, 0.0, 0.0, 0.0, 0.0, 0.0, 0.0, 0.0, 0.0, 0.0, 0.0, 0.0, 0.0, 0.0]\n"
          ]
        }
      ]
    },
    {
      "cell_type": "code",
      "metadata": {
        "colab": {
          "base_uri": "https://localhost:8080/"
        },
        "id": "dAH5IWX_hPU4",
        "outputId": "cf0bc813-b721-489a-c92c-522b288c2182"
      },
      "source": [
        "# Evaluate Model\n",
        "Error = sum([(r-y)**2.0 for r,y in zip(Y, yPredicted)])\n",
        "print(\"With Model=\", model, \"Error=\", Error)\n",
        "Errors.append([model, Error])\n",
        "print (\"History w/ Alpha=\", alpha, \"=\")\n",
        "print (Errors)\n",
        "print(\"Next\")\n",
        "for i in range(len(Errors)):\n",
        "  print(\"Iterations=\",i+1,\":=\",Errors[i])"
      ],
      "execution_count": 80,
      "outputs": [
        {
          "output_type": "stream",
          "name": "stdout",
          "text": [
            "With Model= [0, 0] Error= 41433.399999999994\n",
            "History w/ Alpha= 0.01 =\n",
            "[[[0, 0], 41433.399999999994]]\n",
            "Next\n",
            "Iterations= 1 := [[0, 0], 41433.399999999994]\n"
          ]
        }
      ]
    },
    {
      "cell_type": "code",
      "metadata": {
        "colab": {
          "base_uri": "https://localhost:8080/"
        },
        "id": "aoq63M6VhPKF",
        "outputId": "06641616-f9eb-4f26-cdb1-4a46a3f645e3"
      },
      "source": [
        "deltaX0 = 1/len(Y)*sum( [(-2*(r-y)*x[0]) for r,y,x in zip(Y, yPredicted, X)] )\n",
        "deltaX1 = 1/len(Y)*sum( [(-2*(r-y)*x[1]) for r,y,x in zip(Y, yPredicted, X)] )\n",
        "\n",
        "print(deltaX0)\n",
        "print(deltaX1)"
      ],
      "execution_count": 81,
      "outputs": [
        {
          "output_type": "stream",
          "name": "stdout",
          "text": [
            "-127.65120000000002\n",
            "-233.31733333333335\n"
          ]
        }
      ]
    },
    {
      "cell_type": "code",
      "metadata": {
        "colab": {
          "base_uri": "https://localhost:8080/"
        },
        "id": "XGGuufyLhO9d",
        "outputId": "a402dfd6-14e2-4d14-a8f6-18e01e79543c"
      },
      "source": [
        "model = [model[0]-alpha*deltaX0, model[1]-alpha*deltaX1]\n",
        "print(model)"
      ],
      "execution_count": 82,
      "outputs": [
        {
          "output_type": "stream",
          "name": "stdout",
          "text": [
            "[1.276512, 2.3331733333333338]\n"
          ]
        }
      ]
    },
    {
      "cell_type": "code",
      "metadata": {
        "colab": {
          "base_uri": "https://localhost:8080/",
          "height": 265
        },
        "id": "s9J8xUnehnUy",
        "outputId": "658fda5b-731c-4c24-dc49-a5427d09a728"
      },
      "source": [
        "#Plot learned model with data\n",
        "dataX1 = [x[1] for x, y in data]\n",
        "plt.plot(dataX1, yPredicted, \"b\")\n",
        "plt.plot(dataX1, Y, \"g+\")\n",
        "plt.show()"
      ],
      "execution_count": 83,
      "outputs": [
        {
          "output_type": "display_data",
          "data": {
            "image/png": "[encoded data removed]",
            "text/plain": [
              "<Figure size 432x288 with 1 Axes>"
            ]
          },
          "metadata": {
            "needs_background": "light"
          }
        }
      ]
    },
    {
      "cell_type": "code",
      "metadata": {
        "colab": {
          "base_uri": "https://localhost:8080/"
        },
        "id": "8ixBHEeFhnHU",
        "outputId": "42fe9931-2e1b-40b5-96bc-ac8c998b49c9"
      },
      "source": [
        "#Testing data, no noice\n",
        "data = [((1.4, 4.4), 15), ((1.4, 4.8), 16), ((1.3, 5.0), 16), ((1.5, 4.5), 16), ((1.4, 3.5), 14), ((1.7, 3.8), 16), ((1.4, 3.7), 14), ((1.5, 3.9), 15), ((1.4, 5.1), 17), ((1.5, 4.5), 16), ((1.5, 4.5), 16), ((1.6, 4.7), 17), ((1.4, 4.4), 15), ((1.1, 4.1), 13), ((1.2, 4.0), 14), ((1.5, 4.4), 16), ((1.3, 4.6), 15), ((1.4, 4.0), 15), ((1.7, 3.3), 15), ((1.5, 4.2), 15), ((1.7, 4.2), 16), ((1.5, 4.2), 15), ((1.0, 4.3), 13), ((1.7, 3.0), 14), ((1.9, 4.1), 17), ((1.6, 6.0), 20), ((1.6, 5.1), 18), ((1.5, 5.9), 19), ((1.4, 5.6), 18), ((1.6, 5.8), 19), ((1.6, 6.6), 21), ((1.5, 4.5), 16), ((1.5, 6.3), 20), ((1.4, 5.8), 18), ((1.5, 6.1), 19), ((1.2, 5.1), 16), ((1.3, 5.3), 17), ((1.5, 5.5), 18), ((1.3, 5.0), 16), ((1.5, 5.1), 17), ((1.3, 5.3), 17), ((1.3, 5.5), 17), ((1.3, 6.7), 19), ((1.6, 6.9), 21), ((1.9, 5.0), 19), ((1.4, 5.7), 18), ((1.6, 4.9), 17), ((1.4, 6.7), 20), ((1.5, 4.9), 17), ((1.4, 5.7), 18), ((4.7, 6.0), 35), ((4.5, 4.8), 32), ((4.9, 4.9), 34), ((4.0, 5.6), 31), ((4.6, 5.8), 34), ((4.5, 6.1), 34), ((4.7, 6.4), 36), ((3.3, 5.6), 27), ((4.6, 5.1), 33), ((3.9, 5.6), 30), ((3.5, 6.1), 29), ((4.2, 5.6), 32), ((4.0, 5.5), 31), ((4.7, 4.8), 33), ((3.6, 5.4), 28), ((4.4, 5.6), 33), ((4.5, 5.1), 32), ((4.1, 5.1), 30), ((4.5, 5.9), 34), ((3.9, 5.7), 30), ((4.8, 5.2), 34), ((4.0, 5.0), 30), ((4.9, 5.2), 34), ((4.7, 5.4), 34), ((4.3, 5.1), 31)]\n",
        "print(data)\n",
        "X = [d for d,_ in data]\n",
        "Y = [y for _, y in data]\n",
        "print(X)\n",
        "print(Y)"
      ],
      "execution_count": 84,
      "outputs": [
        {
          "output_type": "stream",
          "name": "stdout",
          "text": [
            "[((1.4, 4.4), 15), ((1.4, 4.8), 16), ((1.3, 5.0), 16), ((1.5, 4.5), 16), ((1.4, 3.5), 14), ((1.7, 3.8), 16), ((1.4, 3.7), 14), ((1.5, 3.9), 15), ((1.4, 5.1), 17), ((1.5, 4.5), 16), ((1.5, 4.5), 16), ((1.6, 4.7), 17), ((1.4, 4.4), 15), ((1.1, 4.1), 13), ((1.2, 4.0), 14), ((1.5, 4.4), 16), ((1.3, 4.6), 15), ((1.4, 4.0), 15), ((1.7, 3.3), 15), ((1.5, 4.2), 15), ((1.7, 4.2), 16), ((1.5, 4.2), 15), ((1.0, 4.3), 13), ((1.7, 3.0), 14), ((1.9, 4.1), 17), ((1.6, 6.0), 20), ((1.6, 5.1), 18), ((1.5, 5.9), 19), ((1.4, 5.6), 18), ((1.6, 5.8), 19), ((1.6, 6.6), 21), ((1.5, 4.5), 16), ((1.5, 6.3), 20), ((1.4, 5.8), 18), ((1.5, 6.1), 19), ((1.2, 5.1), 16), ((1.3, 5.3), 17), ((1.5, 5.5), 18), ((1.3, 5.0), 16), ((1.5, 5.1), 17), ((1.3, 5.3), 17), ((1.3, 5.5), 17), ((1.3, 6.7), 19), ((1.6, 6.9), 21), ((1.9, 5.0), 19), ((1.4, 5.7), 18), ((1.6, 4.9), 17), ((1.4, 6.7), 20), ((1.5, 4.9), 17), ((1.4, 5.7), 18), ((4.7, 6.0), 35), ((4.5, 4.8), 32), ((4.9, 4.9), 34), ((4.0, 5.6), 31), ((4.6, 5.8), 34), ((4.5, 6.1), 34), ((4.7, 6.4), 36), ((3.3, 5.6), 27), ((4.6, 5.1), 33), ((3.9, 5.6), 30), ((3.5, 6.1), 29), ((4.2, 5.6), 32), ((4.0, 5.5), 31), ((4.7, 4.8), 33), ((3.6, 5.4), 28), ((4.4, 5.6), 33), ((4.5, 5.1), 32), ((4.1, 5.1), 30), ((4.5, 5.9), 34), ((3.9, 5.7), 30), ((4.8, 5.2), 34), ((4.0, 5.0), 30), ((4.9, 5.2), 34), ((4.7, 5.4), 34), ((4.3, 5.1), 31)]\n",
            "[(1.4, 4.4), (1.4, 4.8), (1.3, 5.0), (1.5, 4.5), (1.4, 3.5), (1.7, 3.8), (1.4, 3.7), (1.5, 3.9), (1.4, 5.1), (1.5, 4.5), (1.5, 4.5), (1.6, 4.7), (1.4, 4.4), (1.1, 4.1), (1.2, 4.0), (1.5, 4.4), (1.3, 4.6), (1.4, 4.0), (1.7, 3.3), (1.5, 4.2), (1.7, 4.2), (1.5, 4.2), (1.0, 4.3), (1.7, 3.0), (1.9, 4.1), (1.6, 6.0), (1.6, 5.1), (1.5, 5.9), (1.4, 5.6), (1.6, 5.8), (1.6, 6.6), (1.5, 4.5), (1.5, 6.3), (1.4, 5.8), (1.5, 6.1), (1.2, 5.1), (1.3, 5.3), (1.5, 5.5), (1.3, 5.0), (1.5, 5.1), (1.3, 5.3), (1.3, 5.5), (1.3, 6.7), (1.6, 6.9), (1.9, 5.0), (1.4, 5.7), (1.6, 4.9), (1.4, 6.7), (1.5, 4.9), (1.4, 5.7), (4.7, 6.0), (4.5, 4.8), (4.9, 4.9), (4.0, 5.6), (4.6, 5.8), (4.5, 6.1), (4.7, 6.4), (3.3, 5.6), (4.6, 5.1), (3.9, 5.6), (3.5, 6.1), (4.2, 5.6), (4.0, 5.5), (4.7, 4.8), (3.6, 5.4), (4.4, 5.6), (4.5, 5.1), (4.1, 5.1), (4.5, 5.9), (3.9, 5.7), (4.8, 5.2), (4.0, 5.0), (4.9, 5.2), (4.7, 5.4), (4.3, 5.1)]\n",
            "[15, 16, 16, 16, 14, 16, 14, 15, 17, 16, 16, 17, 15, 13, 14, 16, 15, 15, 15, 15, 16, 15, 13, 14, 17, 20, 18, 19, 18, 19, 21, 16, 20, 18, 19, 16, 17, 18, 16, 17, 17, 17, 19, 21, 19, 18, 17, 20, 17, 18, 35, 32, 34, 31, 34, 34, 36, 27, 33, 30, 29, 32, 31, 33, 28, 33, 32, 30, 34, 30, 34, 30, 34, 34, 31]\n"
          ]
        }
      ]
    },
    {
      "cell_type": "code",
      "metadata": {
        "id": "vifuYRofhm7z"
      },
      "source": [
        "alpha=0.01\n",
        "model=[0, 0]\n",
        "Errors = []"
      ],
      "execution_count": 85,
      "outputs": []
    },
    {
      "cell_type": "code",
      "metadata": {
        "colab": {
          "base_uri": "https://localhost:8080/"
        },
        "id": "W7pCSUarhmvQ",
        "outputId": "2b03b9db-f850-4d98-bce2-f29934bb647e"
      },
      "source": [
        "# Calculate Predicted\n",
        "\n",
        "yPredicted = [F(model, x) for x in X]\n",
        "print(yPredicted)"
      ],
      "execution_count": 86,
      "outputs": [
        {
          "output_type": "stream",
          "name": "stdout",
          "text": [
            "[0.0, 0.0, 0.0, 0.0, 0.0, 0.0, 0.0, 0.0, 0.0, 0.0, 0.0, 0.0, 0.0, 0.0, 0.0, 0.0, 0.0, 0.0, 0.0, 0.0, 0.0, 0.0, 0.0, 0.0, 0.0, 0.0, 0.0, 0.0, 0.0, 0.0, 0.0, 0.0, 0.0, 0.0, 0.0, 0.0, 0.0, 0.0, 0.0, 0.0, 0.0, 0.0, 0.0, 0.0, 0.0, 0.0, 0.0, 0.0, 0.0, 0.0, 0.0, 0.0, 0.0, 0.0, 0.0, 0.0, 0.0, 0.0, 0.0, 0.0, 0.0, 0.0, 0.0, 0.0, 0.0, 0.0, 0.0, 0.0, 0.0, 0.0, 0.0, 0.0, 0.0, 0.0, 0.0]\n"
          ]
        }
      ]
    },
    {
      "cell_type": "code",
      "metadata": {
        "colab": {
          "base_uri": "https://localhost:8080/"
        },
        "id": "RC-n4UrhjPHB",
        "outputId": "6903dd23-b4c8-478c-e5fa-1e8b675f9213"
      },
      "source": [
        "# Evaluate Model\n",
        "Error = sum([(r-y)**2.0 for r,y in zip(Y, yPredicted)])\n",
        "print(\"With Model=\", model, \"Error=\", Error)\n",
        "Errors.append([model, Error])\n",
        "print (\"History w/ Alpha=\", alpha, \"=\")\n",
        "print (Errors)\n",
        "print(\"Next\")\n",
        "for i in range(len(Errors)):\n",
        "  print(\"Iterations=\",i+1,\":=\",Errors[i])"
      ],
      "execution_count": 87,
      "outputs": [
        {
          "output_type": "stream",
          "name": "stdout",
          "text": [
            "With Model= [0, 0] Error= 39959.0\n",
            "History w/ Alpha= 0.01 =\n",
            "[[[0, 0], 39959.0]]\n",
            "Next\n",
            "Iterations= 1 := [[0, 0], 39959.0]\n"
          ]
        }
      ]
    },
    {
      "cell_type": "code",
      "metadata": {
        "colab": {
          "base_uri": "https://localhost:8080/"
        },
        "id": "-lUCAhzCjO3O",
        "outputId": "a6cdda48-6d28-46c8-cd1f-80a674fbbef6"
      },
      "source": [
        "deltaX0 = 1/len(Y)*sum( [(-2*(r-y)*x[0]) for r,y,x in zip(Y, yPredicted, X)] )\n",
        "deltaX1 = 1/len(Y)*sum( [(-2*(r-y)*x[1]) for r,y,x in zip(Y, yPredicted, X)] )\n",
        "\n",
        "print(deltaX0)\n",
        "print(deltaX1)"
      ],
      "execution_count": 88,
      "outputs": [
        {
          "output_type": "stream",
          "name": "stdout",
          "text": [
            "-125.5066666666667\n",
            "-228.71200000000005\n"
          ]
        }
      ]
    },
    {
      "cell_type": "code",
      "metadata": {
        "colab": {
          "base_uri": "https://localhost:8080/"
        },
        "id": "ddURgAg3jOqx",
        "outputId": "fa9cc939-e250-43d9-eb77-0585bc415c33"
      },
      "source": [
        "model = [model[0]-alpha*deltaX0, model[1]-alpha*deltaX1]\n",
        "print(model)"
      ],
      "execution_count": 89,
      "outputs": [
        {
          "output_type": "stream",
          "name": "stdout",
          "text": [
            "[1.255066666666667, 2.2871200000000007]\n"
          ]
        }
      ]
    },
    {
      "cell_type": "code",
      "metadata": {
        "colab": {
          "base_uri": "https://localhost:8080/",
          "height": 265
        },
        "id": "SGNhNdHTjOa-",
        "outputId": "60250a36-ceb5-4737-f902-b495f165e889"
      },
      "source": [
        "#Plot learned model with data\n",
        "dataX1 = [x[1] for x, y in data]\n",
        "plt.plot(dataX1, yPredicted, \"b\")\n",
        "plt.plot(dataX1, Y, \"g+\")\n",
        "plt.show()"
      ],
      "execution_count": 90,
      "outputs": [
        {
          "output_type": "display_data",
          "data": {
            "image/png": "[encoded data removed]",
            "text/plain": [
              "<Figure size 432x288 with 1 Axes>"
            ]
          },
          "metadata": {
            "needs_background": "light"
          }
        }
      ]
    },
    {
      "cell_type": "markdown",
      "metadata": {
        "id": "F3lP1bub3kxI"
      },
      "source": [
        "**Petal width in cm**"
      ]
    },
    {
      "cell_type": "code",
      "metadata": {
        "colab": {
          "base_uri": "https://localhost:8080/"
        },
        "id": "Q1X9r3M63rOx",
        "outputId": "623723ca-3f92-481d-efe7-15f254620cc6"
      },
      "source": [
        "Weights = [5, 2] # F(X) = 5x_0 + 2x_1\n",
        "F = lambda W, X: sum([w*x for w,x in zip(W,X)])\n",
        "\n",
        "#Getting the IRIS data\n",
        "dataX1 = [0.2,0.2,0.2,0.2,0.2,0.4,0.3,0.2,0.2,0.1,0.2,0.2,0.1,0.1,0.2,0.4,0.4,0.3,0.3,0.3,0.2,0.4,0.2,0.5,0.2,0.2,0.4,0.2,0.2,0.2,0.2,0.4,0.1,0.2,0.1,0.2,0.2,0.1,0.2,0.2,0.3,0.3,0.2,0.6,0.4,0.3,0.2,0.2,0.2,0.2,1.4,1.5,1.5,1.3,1.5,1.3,1.6,1.0,1.3,1.4,1.0,1.5,1.0,1.4,1.3,1.4,1.5,1.0,1.5,1.1,1.8,1.3,1.5,1.2,1.3]\n",
        "dataX0 = [1.4,1.4,1.7,1.5,1.0,1.1,1.0,1.2,1.6,1.5,1.6,1.5,1.3,1.3,1.3,1.2,1.4,1.2,1.0,1.3,1.2,1.3,1.3,1.1,1.3,2.5,1.9,2.1,1.8,2.2,2.1,1.7,1.8,1.8,2.5,2.0,1.9,2.1,2.0,2.4,2.3,1.8,2.2,2.3,1.5,2.3,2.0,2.0,1.8,2.1,1.8,1.8,1.8,2.1,1.6,1.9,2.0,2.2,1.5,1.4,2.3,2.4,1.8,1.8,2.1,2.4,2.3,1.9,2.3,2.5,2.3,1.9,2.0,2.3,1.8]\n",
        "\n",
        "data = (list(zip(dataX1, dataX0)))\n",
        "print (data)\n",
        "Y = [F(Weights, X) for X in data]\n",
        "print (Y)"
      ],
      "execution_count": 91,
      "outputs": [
        {
          "output_type": "stream",
          "name": "stdout",
          "text": [
            "[(0.2, 1.4), (0.2, 1.4), (0.2, 1.7), (0.2, 1.5), (0.2, 1.0), (0.4, 1.1), (0.3, 1.0), (0.2, 1.2), (0.2, 1.6), (0.1, 1.5), (0.2, 1.6), (0.2, 1.5), (0.1, 1.3), (0.1, 1.3), (0.2, 1.3), (0.4, 1.2), (0.4, 1.4), (0.3, 1.2), (0.3, 1.0), (0.3, 1.3), (0.2, 1.2), (0.4, 1.3), (0.2, 1.3), (0.5, 1.1), (0.2, 1.3), (0.2, 2.5), (0.4, 1.9), (0.2, 2.1), (0.2, 1.8), (0.2, 2.2), (0.2, 2.1), (0.4, 1.7), (0.1, 1.8), (0.2, 1.8), (0.1, 2.5), (0.2, 2.0), (0.2, 1.9), (0.1, 2.1), (0.2, 2.0), (0.2, 2.4), (0.3, 2.3), (0.3, 1.8), (0.2, 2.2), (0.6, 2.3), (0.4, 1.5), (0.3, 2.3), (0.2, 2.0), (0.2, 2.0), (0.2, 1.8), (0.2, 2.1), (1.4, 1.8), (1.5, 1.8), (1.5, 1.8), (1.3, 2.1), (1.5, 1.6), (1.3, 1.9), (1.6, 2.0), (1.0, 2.2), (1.3, 1.5), (1.4, 1.4), (1.0, 2.3), (1.5, 2.4), (1.0, 1.8), (1.4, 1.8), (1.3, 2.1), (1.4, 2.4), (1.5, 2.3), (1.0, 1.9), (1.5, 2.3), (1.1, 2.5), (1.8, 2.3), (1.3, 1.9), (1.5, 2.0), (1.2, 2.3), (1.3, 1.8)]\n",
            "[3.8, 3.8, 4.4, 4.0, 3.0, 4.2, 3.5, 3.4, 4.2, 3.5, 4.2, 4.0, 3.1, 3.1, 3.6, 4.4, 4.8, 3.9, 3.5, 4.1, 3.4, 4.6, 3.6, 4.7, 3.6, 6.0, 5.8, 5.2, 4.6, 5.4, 5.2, 5.4, 4.1, 4.6, 5.5, 5.0, 4.8, 4.7, 5.0, 5.8, 6.1, 5.1, 5.4, 7.6, 5.0, 6.1, 5.0, 5.0, 4.6, 5.2, 10.6, 11.1, 11.1, 10.7, 10.7, 10.3, 12.0, 9.4, 9.5, 9.8, 9.6, 12.3, 8.6, 10.6, 10.7, 11.8, 12.1, 8.8, 12.1, 10.5, 13.6, 10.3, 11.5, 10.6, 10.1]\n"
          ]
        }
      ]
    },
    {
      "cell_type": "code",
      "metadata": {
        "colab": {
          "base_uri": "https://localhost:8080/"
        },
        "id": "Qaut8Pe4por6",
        "outputId": "2cc20413-35f5-42ea-edb6-656a91287c3a"
      },
      "source": [
        "TrainingData1 = zip(data, Y)\n",
        "\n",
        "print (list(TrainingData1))"
      ],
      "execution_count": 92,
      "outputs": [
        {
          "output_type": "stream",
          "name": "stdout",
          "text": [
            "[((0.2, 1.4), 3.8), ((0.2, 1.4), 3.8), ((0.2, 1.7), 4.4), ((0.2, 1.5), 4.0), ((0.2, 1.0), 3.0), ((0.4, 1.1), 4.2), ((0.3, 1.0), 3.5), ((0.2, 1.2), 3.4), ((0.2, 1.6), 4.2), ((0.1, 1.5), 3.5), ((0.2, 1.6), 4.2), ((0.2, 1.5), 4.0), ((0.1, 1.3), 3.1), ((0.1, 1.3), 3.1), ((0.2, 1.3), 3.6), ((0.4, 1.2), 4.4), ((0.4, 1.4), 4.8), ((0.3, 1.2), 3.9), ((0.3, 1.0), 3.5), ((0.3, 1.3), 4.1), ((0.2, 1.2), 3.4), ((0.4, 1.3), 4.6), ((0.2, 1.3), 3.6), ((0.5, 1.1), 4.7), ((0.2, 1.3), 3.6), ((0.2, 2.5), 6.0), ((0.4, 1.9), 5.8), ((0.2, 2.1), 5.2), ((0.2, 1.8), 4.6), ((0.2, 2.2), 5.4), ((0.2, 2.1), 5.2), ((0.4, 1.7), 5.4), ((0.1, 1.8), 4.1), ((0.2, 1.8), 4.6), ((0.1, 2.5), 5.5), ((0.2, 2.0), 5.0), ((0.2, 1.9), 4.8), ((0.1, 2.1), 4.7), ((0.2, 2.0), 5.0), ((0.2, 2.4), 5.8), ((0.3, 2.3), 6.1), ((0.3, 1.8), 5.1), ((0.2, 2.2), 5.4), ((0.6, 2.3), 7.6), ((0.4, 1.5), 5.0), ((0.3, 2.3), 6.1), ((0.2, 2.0), 5.0), ((0.2, 2.0), 5.0), ((0.2, 1.8), 4.6), ((0.2, 2.1), 5.2), ((1.4, 1.8), 10.6), ((1.5, 1.8), 11.1), ((1.5, 1.8), 11.1), ((1.3, 2.1), 10.7), ((1.5, 1.6), 10.7), ((1.3, 1.9), 10.3), ((1.6, 2.0), 12.0), ((1.0, 2.2), 9.4), ((1.3, 1.5), 9.5), ((1.4, 1.4), 9.8), ((1.0, 2.3), 9.6), ((1.5, 2.4), 12.3), ((1.0, 1.8), 8.6), ((1.4, 1.8), 10.6), ((1.3, 2.1), 10.7), ((1.4, 2.4), 11.8), ((1.5, 2.3), 12.1), ((1.0, 1.9), 8.8), ((1.5, 2.3), 12.1), ((1.1, 2.5), 10.5), ((1.8, 2.3), 13.6), ((1.3, 1.9), 10.3), ((1.5, 2.0), 11.5), ((1.2, 2.3), 10.6), ((1.3, 1.8), 10.1)]\n"
          ]
        }
      ]
    },
    {
      "cell_type": "code",
      "metadata": {
        "colab": {
          "base_uri": "https://localhost:8080/",
          "height": 302
        },
        "id": "fiqLYDXKpofq",
        "outputId": "05098d07-fd4b-45fb-b4b9-9db017af8d5b"
      },
      "source": [
        "## Add Noise\n",
        "import random\n",
        "import numpy as np\n",
        "import matplotlib.pyplot as plt\n",
        "import math\n",
        "\n",
        "EPS = 30\n",
        "yNoise = [round(y+random.random()*EPS-EPS/2,2) for y in Y]\n",
        "TrainingData2 = zip(data, yNoise)\n",
        "print(list(TrainingData2))\n",
        "\n",
        "plt.plot(dataX1, Y, \"g\")\n",
        "plt.plot(dataX1, yNoise, \"b+\")\n",
        "plt.show()"
      ],
      "execution_count": 93,
      "outputs": [
        {
          "output_type": "stream",
          "name": "stdout",
          "text": [
            "[((0.2, 1.4), -8.6), ((0.2, 1.4), 17.96), ((0.2, 1.7), 12.09), ((0.2, 1.5), 11.24), ((0.2, 1.0), -2.74), ((0.4, 1.1), 0.43), ((0.3, 1.0), 6.44), ((0.2, 1.2), 10.27), ((0.2, 1.6), 4.7), ((0.1, 1.5), 12.94), ((0.2, 1.6), 3.1), ((0.2, 1.5), 6.93), ((0.1, 1.3), -6.07), ((0.1, 1.3), -1.48), ((0.2, 1.3), 7.94), ((0.4, 1.2), 16.56), ((0.4, 1.4), 0.75), ((0.3, 1.2), -7.64), ((0.3, 1.0), -7.64), ((0.3, 1.3), -1.76), ((0.2, 1.2), 8.16), ((0.4, 1.3), 15.85), ((0.2, 1.3), 11.37), ((0.5, 1.1), -6.33), ((0.2, 1.3), 16.11), ((0.2, 2.5), 4.7), ((0.4, 1.9), -2.23), ((0.2, 2.1), 4.04), ((0.2, 1.8), 17.98), ((0.2, 2.2), 16.94), ((0.2, 2.1), 18.44), ((0.4, 1.7), -5.7), ((0.1, 1.8), -10.51), ((0.2, 1.8), -7.21), ((0.1, 2.5), -8.8), ((0.2, 2.0), 2.57), ((0.2, 1.9), 7.23), ((0.1, 2.1), 12.82), ((0.2, 2.0), 3.5), ((0.2, 2.4), -7.04), ((0.3, 2.3), -2.14), ((0.3, 1.8), -7.5), ((0.2, 2.2), 17.23), ((0.6, 2.3), 7.77), ((0.4, 1.5), 11.94), ((0.3, 2.3), 18.53), ((0.2, 2.0), 5.79), ((0.2, 2.0), 19.94), ((0.2, 1.8), -1.19), ((0.2, 2.1), 19.46), ((1.4, 1.8), 5.06), ((1.5, 1.8), 10.39), ((1.5, 1.8), 18.8), ((1.3, 2.1), 3.22), ((1.5, 1.6), 24.92), ((1.3, 1.9), -2.4), ((1.6, 2.0), 13.13), ((1.0, 2.2), 21.92), ((1.3, 1.5), 20.13), ((1.4, 1.4), 10.22), ((1.0, 2.3), 13.98), ((1.5, 2.4), 0.15), ((1.0, 1.8), 12.83), ((1.4, 1.8), 20.97), ((1.3, 2.1), 12.11), ((1.4, 2.4), 10.45), ((1.5, 2.3), 12.4), ((1.0, 1.9), 6.95), ((1.5, 2.3), 22.61), ((1.1, 2.5), 18.62), ((1.8, 2.3), 23.31), ((1.3, 1.9), 25.18), ((1.5, 2.0), -2.23), ((1.2, 2.3), 12.02), ((1.3, 1.8), 2.11)]\n"
          ]
        },
        {
          "output_type": "display_data",
          "data": {
            "image/png": "[encoded data removed]",
            "text/plain": [
              "<Figure size 432x288 with 1 Axes>"
            ]
          },
          "metadata": {
            "needs_background": "light"
          }
        }
      ]
    },
    {
      "cell_type": "code",
      "metadata": {
        "colab": {
          "base_uri": "https://localhost:8080/"
        },
        "id": "qWlHou62poUC",
        "outputId": "af5c184c-53f5-42c8-fafa-541439cea5ef"
      },
      "source": [
        "#Testing data, with noice\n",
        "data = [((0.2, 1.4), 3.8), ((0.2, 1.4), 3.8), ((0.2, 1.7), 4.4), ((0.2, 1.5), 4.0), ((0.2, 1.0), 3.0), ((0.4, 1.1), 4.2), ((0.3, 1.0), 3.5), ((0.2, 1.2), 3.4), ((0.2, 1.6), 4.2), ((0.1, 1.5), 3.5), ((0.2, 1.6), 4.2), ((0.2, 1.5), 4.0), ((0.1, 1.3), 3.1), ((0.1, 1.3), 3.1), ((0.2, 1.3), 3.6), ((0.4, 1.2), 4.4), ((0.4, 1.4), 4.8), ((0.3, 1.2), 3.9), ((0.3, 1.0), 3.5), ((0.3, 1.3), 4.1), ((0.2, 1.2), 3.4), ((0.4, 1.3), 4.6), ((0.2, 1.3), 3.6), ((0.5, 1.1), 4.7), ((0.2, 1.3), 3.6), ((0.2, 2.5), 6.0), ((0.4, 1.9), 5.8), ((0.2, 2.1), 5.2), ((0.2, 1.8), 4.6), ((0.2, 2.2), 5.4), ((0.2, 2.1), 5.2), ((0.4, 1.7), 5.4), ((0.1, 1.8), 4.1), ((0.2, 1.8), 4.6), ((0.1, 2.5), 5.5), ((0.2, 2.0), 5.0), ((0.2, 1.9), 4.8), ((0.1, 2.1), 4.7), ((0.2, 2.0), 5.0), ((0.2, 2.4), 5.8), ((0.3, 2.3), 6.1), ((0.3, 1.8), 5.1), ((0.2, 2.2), 5.4), ((0.6, 2.3), 7.6), ((0.4, 1.5), 5.0), ((0.3, 2.3), 6.1), ((0.2, 2.0), 5.0), ((0.2, 2.0), 5.0), ((0.2, 1.8), 4.6), ((0.2, 2.1), 5.2), ((1.4, 1.8), 10.6), ((1.5, 1.8), 11.1), ((1.5, 1.8), 11.1), ((1.3, 2.1), 10.7), ((1.5, 1.6), 10.7), ((1.3, 1.9), 10.3), ((1.6, 2.0), 12.0), ((1.0, 2.2), 9.4), ((1.3, 1.5), 9.5), ((1.4, 1.4), 9.8), ((1.0, 2.3), 9.6), ((1.5, 2.4), 12.3), ((1.0, 1.8), 8.6), ((1.4, 1.8), 10.6), ((1.3, 2.1), 10.7), ((1.4, 2.4), 11.8), ((1.5, 2.3), 12.1), ((1.0, 1.9), 8.8), ((1.5, 2.3), 12.1), ((1.1, 2.5), 10.5), ((1.8, 2.3), 13.6), ((1.3, 1.9), 10.3), ((1.5, 2.0), 11.5), ((1.2, 2.3), 10.6), ((1.3, 1.8), 10.1)]\n",
        "print(data)\n",
        "X = [d for d,_ in data]\n",
        "Y = [y for _, y in data]\n",
        "print(X)\n",
        "print(Y)"
      ],
      "execution_count": 94,
      "outputs": [
        {
          "output_type": "stream",
          "name": "stdout",
          "text": [
            "[((0.2, 1.4), 3.8), ((0.2, 1.4), 3.8), ((0.2, 1.7), 4.4), ((0.2, 1.5), 4.0), ((0.2, 1.0), 3.0), ((0.4, 1.1), 4.2), ((0.3, 1.0), 3.5), ((0.2, 1.2), 3.4), ((0.2, 1.6), 4.2), ((0.1, 1.5), 3.5), ((0.2, 1.6), 4.2), ((0.2, 1.5), 4.0), ((0.1, 1.3), 3.1), ((0.1, 1.3), 3.1), ((0.2, 1.3), 3.6), ((0.4, 1.2), 4.4), ((0.4, 1.4), 4.8), ((0.3, 1.2), 3.9), ((0.3, 1.0), 3.5), ((0.3, 1.3), 4.1), ((0.2, 1.2), 3.4), ((0.4, 1.3), 4.6), ((0.2, 1.3), 3.6), ((0.5, 1.1), 4.7), ((0.2, 1.3), 3.6), ((0.2, 2.5), 6.0), ((0.4, 1.9), 5.8), ((0.2, 2.1), 5.2), ((0.2, 1.8), 4.6), ((0.2, 2.2), 5.4), ((0.2, 2.1), 5.2), ((0.4, 1.7), 5.4), ((0.1, 1.8), 4.1), ((0.2, 1.8), 4.6), ((0.1, 2.5), 5.5), ((0.2, 2.0), 5.0), ((0.2, 1.9), 4.8), ((0.1, 2.1), 4.7), ((0.2, 2.0), 5.0), ((0.2, 2.4), 5.8), ((0.3, 2.3), 6.1), ((0.3, 1.8), 5.1), ((0.2, 2.2), 5.4), ((0.6, 2.3), 7.6), ((0.4, 1.5), 5.0), ((0.3, 2.3), 6.1), ((0.2, 2.0), 5.0), ((0.2, 2.0), 5.0), ((0.2, 1.8), 4.6), ((0.2, 2.1), 5.2), ((1.4, 1.8), 10.6), ((1.5, 1.8), 11.1), ((1.5, 1.8), 11.1), ((1.3, 2.1), 10.7), ((1.5, 1.6), 10.7), ((1.3, 1.9), 10.3), ((1.6, 2.0), 12.0), ((1.0, 2.2), 9.4), ((1.3, 1.5), 9.5), ((1.4, 1.4), 9.8), ((1.0, 2.3), 9.6), ((1.5, 2.4), 12.3), ((1.0, 1.8), 8.6), ((1.4, 1.8), 10.6), ((1.3, 2.1), 10.7), ((1.4, 2.4), 11.8), ((1.5, 2.3), 12.1), ((1.0, 1.9), 8.8), ((1.5, 2.3), 12.1), ((1.1, 2.5), 10.5), ((1.8, 2.3), 13.6), ((1.3, 1.9), 10.3), ((1.5, 2.0), 11.5), ((1.2, 2.3), 10.6), ((1.3, 1.8), 10.1)]\n",
            "[(0.2, 1.4), (0.2, 1.4), (0.2, 1.7), (0.2, 1.5), (0.2, 1.0), (0.4, 1.1), (0.3, 1.0), (0.2, 1.2), (0.2, 1.6), (0.1, 1.5), (0.2, 1.6), (0.2, 1.5), (0.1, 1.3), (0.1, 1.3), (0.2, 1.3), (0.4, 1.2), (0.4, 1.4), (0.3, 1.2), (0.3, 1.0), (0.3, 1.3), (0.2, 1.2), (0.4, 1.3), (0.2, 1.3), (0.5, 1.1), (0.2, 1.3), (0.2, 2.5), (0.4, 1.9), (0.2, 2.1), (0.2, 1.8), (0.2, 2.2), (0.2, 2.1), (0.4, 1.7), (0.1, 1.8), (0.2, 1.8), (0.1, 2.5), (0.2, 2.0), (0.2, 1.9), (0.1, 2.1), (0.2, 2.0), (0.2, 2.4), (0.3, 2.3), (0.3, 1.8), (0.2, 2.2), (0.6, 2.3), (0.4, 1.5), (0.3, 2.3), (0.2, 2.0), (0.2, 2.0), (0.2, 1.8), (0.2, 2.1), (1.4, 1.8), (1.5, 1.8), (1.5, 1.8), (1.3, 2.1), (1.5, 1.6), (1.3, 1.9), (1.6, 2.0), (1.0, 2.2), (1.3, 1.5), (1.4, 1.4), (1.0, 2.3), (1.5, 2.4), (1.0, 1.8), (1.4, 1.8), (1.3, 2.1), (1.4, 2.4), (1.5, 2.3), (1.0, 1.9), (1.5, 2.3), (1.1, 2.5), (1.8, 2.3), (1.3, 1.9), (1.5, 2.0), (1.2, 2.3), (1.3, 1.8)]\n",
            "[3.8, 3.8, 4.4, 4.0, 3.0, 4.2, 3.5, 3.4, 4.2, 3.5, 4.2, 4.0, 3.1, 3.1, 3.6, 4.4, 4.8, 3.9, 3.5, 4.1, 3.4, 4.6, 3.6, 4.7, 3.6, 6.0, 5.8, 5.2, 4.6, 5.4, 5.2, 5.4, 4.1, 4.6, 5.5, 5.0, 4.8, 4.7, 5.0, 5.8, 6.1, 5.1, 5.4, 7.6, 5.0, 6.1, 5.0, 5.0, 4.6, 5.2, 10.6, 11.1, 11.1, 10.7, 10.7, 10.3, 12.0, 9.4, 9.5, 9.8, 9.6, 12.3, 8.6, 10.6, 10.7, 11.8, 12.1, 8.8, 12.1, 10.5, 13.6, 10.3, 11.5, 10.6, 10.1]\n"
          ]
        }
      ]
    },
    {
      "cell_type": "code",
      "metadata": {
        "id": "Zmk5BgMxpoJf"
      },
      "source": [
        "alpha=0.01\n",
        "model=[0, 0]\n",
        "Errors = []"
      ],
      "execution_count": 95,
      "outputs": []
    },
    {
      "cell_type": "code",
      "metadata": {
        "colab": {
          "base_uri": "https://localhost:8080/"
        },
        "id": "k3gkJIHlpn99",
        "outputId": "f6e4bedf-2169-4aca-b713-a280116e482d"
      },
      "source": [
        "# Calculate Predicted\n",
        "\n",
        "yPredicted = [F(model, x) for x in X]\n",
        "print(yPredicted)"
      ],
      "execution_count": 96,
      "outputs": [
        {
          "output_type": "stream",
          "name": "stdout",
          "text": [
            "[0.0, 0.0, 0.0, 0.0, 0.0, 0.0, 0.0, 0.0, 0.0, 0.0, 0.0, 0.0, 0.0, 0.0, 0.0, 0.0, 0.0, 0.0, 0.0, 0.0, 0.0, 0.0, 0.0, 0.0, 0.0, 0.0, 0.0, 0.0, 0.0, 0.0, 0.0, 0.0, 0.0, 0.0, 0.0, 0.0, 0.0, 0.0, 0.0, 0.0, 0.0, 0.0, 0.0, 0.0, 0.0, 0.0, 0.0, 0.0, 0.0, 0.0, 0.0, 0.0, 0.0, 0.0, 0.0, 0.0, 0.0, 0.0, 0.0, 0.0, 0.0, 0.0, 0.0, 0.0, 0.0, 0.0, 0.0, 0.0, 0.0, 0.0, 0.0, 0.0, 0.0, 0.0, 0.0]\n"
          ]
        }
      ]
    },
    {
      "cell_type": "code",
      "metadata": {
        "colab": {
          "base_uri": "https://localhost:8080/"
        },
        "id": "pRRn9LUypnzv",
        "outputId": "e9dfe617-7153-46b1-af5d-3cfb4b674dfb"
      },
      "source": [
        "# Evaluate Model\n",
        "Error = sum([(r-y)**2.0 for r,y in zip(Y, yPredicted)])\n",
        "print(\"With Model=\", model, \"Error=\", Error)\n",
        "Errors.append([model, Error])\n",
        "print (\"History w/ Alpha=\", alpha, \"=\")\n",
        "print (Errors)\n",
        "print(\"Next\")\n",
        "for i in range(len(Errors)):\n",
        "  print(\"Iterations=\",i+1,\":=\",Errors[i])"
      ],
      "execution_count": 97,
      "outputs": [
        {
          "output_type": "stream",
          "name": "stdout",
          "text": [
            "With Model= [0, 0] Error= 4002.7199999999993\n",
            "History w/ Alpha= 0.01 =\n",
            "[[[0, 0], 4002.7199999999993]]\n",
            "Next\n",
            "Iterations= 1 := [[0, 0], 4002.7199999999993]\n"
          ]
        }
      ]
    },
    {
      "cell_type": "code",
      "metadata": {
        "colab": {
          "base_uri": "https://localhost:8080/"
        },
        "id": "iFiFks_UpnpK",
        "outputId": "3a769ab3-5302-4d86-914d-87a4a286822f"
      },
      "source": [
        "deltaX0 = 1/len(Y)*sum( [(-2*(r-y)*x[0]) for r,y,x in zip(Y, yPredicted, X)] )\n",
        "deltaX1 = 1/len(Y)*sum( [(-2*(r-y)*x[1]) for r,y,x in zip(Y, yPredicted, X)] )\n",
        "\n",
        "print(deltaX0)\n",
        "print(deltaX1)"
      ],
      "execution_count": 98,
      "outputs": [
        {
          "output_type": "stream",
          "name": "stdout",
          "text": [
            "-11.2944\n",
            "-25.13360000000001\n"
          ]
        }
      ]
    },
    {
      "cell_type": "code",
      "metadata": {
        "colab": {
          "base_uri": "https://localhost:8080/"
        },
        "id": "AEuEYwoppndy",
        "outputId": "b4d97e7e-ccea-4e8f-9b3b-2c2e0a3b2e4b"
      },
      "source": [
        "model = [model[0]-alpha*deltaX0, model[1]-alpha*deltaX1]\n",
        "print(model)"
      ],
      "execution_count": 99,
      "outputs": [
        {
          "output_type": "stream",
          "name": "stdout",
          "text": [
            "[0.112944, 0.2513360000000001]\n"
          ]
        }
      ]
    },
    {
      "cell_type": "code",
      "metadata": {
        "colab": {
          "base_uri": "https://localhost:8080/",
          "height": 265
        },
        "id": "kzpzrfispnUo",
        "outputId": "d870a1df-7179-477e-c5bb-235935c9ed26"
      },
      "source": [
        "#Plot learned model with data\n",
        "dataX1 = [x[1] for x, y in data]\n",
        "plt.plot(dataX1, yPredicted, \"b\")\n",
        "plt.plot(dataX1, Y, \"g+\")\n",
        "plt.show()"
      ],
      "execution_count": 100,
      "outputs": [
        {
          "output_type": "display_data",
          "data": {
            "image/png": "[encoded data removed]",
            "text/plain": [
              "<Figure size 432x288 with 1 Axes>"
            ]
          },
          "metadata": {
            "needs_background": "light"
          }
        }
      ]
    },
    {
      "cell_type": "code",
      "metadata": {
        "colab": {
          "base_uri": "https://localhost:8080/"
        },
        "id": "_zuY91jxpnKQ",
        "outputId": "603236cc-f296-41aa-a819-79b1bbdd1ee5"
      },
      "source": [
        "#Testing data, no noice\n",
        "data = [((0.2, 1.4), 3), ((0.2, 1.4), 3), ((0.2, 1.7), 4), ((0.2, 1.5), 4), ((0.2, 1.0), 3), ((0.4, 1.1), 4), ((0.3, 1.0), 3), ((0.2, 1.2), 3), ((0.2, 1.6), 4), ((0.1, 1.5), 3), ((0.2, 1.6), 4), ((0.2, 1.5), 4), ((0.1, 1.3), 3), ((0.1, 1.3), 3), ((0.2, 1.3), 3), ((0.4, 1.2), 4), ((0.4, 1.4), 4), ((0.3, 1.2), 3), ((0.3, 1.0), 3), ((0.3, 1.3), 4), ((0.2, 1.2), 3), ((0.4, 1.3), 4), ((0.2, 1.3), 3), ((0.5, 1.1), 4), ((0.2, 1.3), 3), ((0.2, 2.5), 6), ((0.4, 1.9), 5), ((0.2, 2.1), 5), ((0.2, 1.8), 4), ((0.2, 2.2), 5), ((0.2, 2.1), 5), ((0.4, 1.7), 5), ((0.1, 1.8), 4), ((0.2, 1.8), 4), ((0.1, 2.5), 5), ((0.2, 2.0), 5), ((0.2, 1.9), 4), ((0.1, 2.1), 4), ((0.2, 2.0), 5), ((0.2, 2.4), 5), ((0.3, 2.3), 6), ((0.3, 1.8), 5), ((0.2, 2.2), 5), ((0.6, 2.3), 7), ((0.4, 1.5), 5), ((0.3, 2.3), 6), ((0.2, 2.0), 5), ((0.2, 2.0), 5), ((0.2, 1.8), 4), ((0.2, 2.1), 5), ((1.4, 1.8), 10), ((1.5, 1.8), 11), ((1.5, 1.8), 11), ((1.3, 2.1), 10), ((1.5, 1.6), 10), ((1.3, 1.9), 10), ((1.6, 2.0), 12), ((1.0, 2.2), 9), ((1.3, 1.5), 9), ((1.4, 1.4), 9), ((1.0, 2.3), 9), ((1.5, 2.4), 12), ((1.0, 1.8), 8), ((1.4, 1.8), 10), ((1.3, 2.1), 10), ((1.4, 2.4), 11), ((1.5, 2.3), 12), ((1.0, 1.9), 8), ((1.5, 2.3), 12), ((1.1, 2.5), 10), ((1.8, 2.3), 13), ((1.3, 1.9), 10), ((1.5, 2.0), 11), ((1.2, 2.3), 10), ((1.3, 1.8), 10)]\n",
        "print(data)\n",
        "X = [d for d,_ in data]\n",
        "Y = [y for _, y in data]\n",
        "print(X)\n",
        "print(Y)"
      ],
      "execution_count": 101,
      "outputs": [
        {
          "output_type": "stream",
          "name": "stdout",
          "text": [
            "[((0.2, 1.4), 3), ((0.2, 1.4), 3), ((0.2, 1.7), 4), ((0.2, 1.5), 4), ((0.2, 1.0), 3), ((0.4, 1.1), 4), ((0.3, 1.0), 3), ((0.2, 1.2), 3), ((0.2, 1.6), 4), ((0.1, 1.5), 3), ((0.2, 1.6), 4), ((0.2, 1.5), 4), ((0.1, 1.3), 3), ((0.1, 1.3), 3), ((0.2, 1.3), 3), ((0.4, 1.2), 4), ((0.4, 1.4), 4), ((0.3, 1.2), 3), ((0.3, 1.0), 3), ((0.3, 1.3), 4), ((0.2, 1.2), 3), ((0.4, 1.3), 4), ((0.2, 1.3), 3), ((0.5, 1.1), 4), ((0.2, 1.3), 3), ((0.2, 2.5), 6), ((0.4, 1.9), 5), ((0.2, 2.1), 5), ((0.2, 1.8), 4), ((0.2, 2.2), 5), ((0.2, 2.1), 5), ((0.4, 1.7), 5), ((0.1, 1.8), 4), ((0.2, 1.8), 4), ((0.1, 2.5), 5), ((0.2, 2.0), 5), ((0.2, 1.9), 4), ((0.1, 2.1), 4), ((0.2, 2.0), 5), ((0.2, 2.4), 5), ((0.3, 2.3), 6), ((0.3, 1.8), 5), ((0.2, 2.2), 5), ((0.6, 2.3), 7), ((0.4, 1.5), 5), ((0.3, 2.3), 6), ((0.2, 2.0), 5), ((0.2, 2.0), 5), ((0.2, 1.8), 4), ((0.2, 2.1), 5), ((1.4, 1.8), 10), ((1.5, 1.8), 11), ((1.5, 1.8), 11), ((1.3, 2.1), 10), ((1.5, 1.6), 10), ((1.3, 1.9), 10), ((1.6, 2.0), 12), ((1.0, 2.2), 9), ((1.3, 1.5), 9), ((1.4, 1.4), 9), ((1.0, 2.3), 9), ((1.5, 2.4), 12), ((1.0, 1.8), 8), ((1.4, 1.8), 10), ((1.3, 2.1), 10), ((1.4, 2.4), 11), ((1.5, 2.3), 12), ((1.0, 1.9), 8), ((1.5, 2.3), 12), ((1.1, 2.5), 10), ((1.8, 2.3), 13), ((1.3, 1.9), 10), ((1.5, 2.0), 11), ((1.2, 2.3), 10), ((1.3, 1.8), 10)]\n",
            "[(0.2, 1.4), (0.2, 1.4), (0.2, 1.7), (0.2, 1.5), (0.2, 1.0), (0.4, 1.1), (0.3, 1.0), (0.2, 1.2), (0.2, 1.6), (0.1, 1.5), (0.2, 1.6), (0.2, 1.5), (0.1, 1.3), (0.1, 1.3), (0.2, 1.3), (0.4, 1.2), (0.4, 1.4), (0.3, 1.2), (0.3, 1.0), (0.3, 1.3), (0.2, 1.2), (0.4, 1.3), (0.2, 1.3), (0.5, 1.1), (0.2, 1.3), (0.2, 2.5), (0.4, 1.9), (0.2, 2.1), (0.2, 1.8), (0.2, 2.2), (0.2, 2.1), (0.4, 1.7), (0.1, 1.8), (0.2, 1.8), (0.1, 2.5), (0.2, 2.0), (0.2, 1.9), (0.1, 2.1), (0.2, 2.0), (0.2, 2.4), (0.3, 2.3), (0.3, 1.8), (0.2, 2.2), (0.6, 2.3), (0.4, 1.5), (0.3, 2.3), (0.2, 2.0), (0.2, 2.0), (0.2, 1.8), (0.2, 2.1), (1.4, 1.8), (1.5, 1.8), (1.5, 1.8), (1.3, 2.1), (1.5, 1.6), (1.3, 1.9), (1.6, 2.0), (1.0, 2.2), (1.3, 1.5), (1.4, 1.4), (1.0, 2.3), (1.5, 2.4), (1.0, 1.8), (1.4, 1.8), (1.3, 2.1), (1.4, 2.4), (1.5, 2.3), (1.0, 1.9), (1.5, 2.3), (1.1, 2.5), (1.8, 2.3), (1.3, 1.9), (1.5, 2.0), (1.2, 2.3), (1.3, 1.8)]\n",
            "[3, 3, 4, 4, 3, 4, 3, 3, 4, 3, 4, 4, 3, 3, 3, 4, 4, 3, 3, 4, 3, 4, 3, 4, 3, 6, 5, 5, 4, 5, 5, 5, 4, 4, 5, 5, 4, 4, 5, 5, 6, 5, 5, 7, 5, 6, 5, 5, 4, 5, 10, 11, 11, 10, 10, 10, 12, 9, 9, 9, 9, 12, 8, 10, 10, 11, 12, 8, 12, 10, 13, 10, 11, 10, 10]\n"
          ]
        }
      ]
    },
    {
      "cell_type": "code",
      "metadata": {
        "id": "2eYnsgDLpnAO"
      },
      "source": [
        "alpha=0.01\n",
        "model=[0, 0]\n",
        "Errors = []"
      ],
      "execution_count": 102,
      "outputs": []
    },
    {
      "cell_type": "code",
      "metadata": {
        "colab": {
          "base_uri": "https://localhost:8080/"
        },
        "id": "opjpAzUkpm2B",
        "outputId": "0a38216f-8b73-4ca5-b6dc-f9223a9e48f8"
      },
      "source": [
        "# Calculate Predicted\n",
        "\n",
        "yPredicted = [F(model, x) for x in X]\n",
        "print(yPredicted)"
      ],
      "execution_count": 103,
      "outputs": [
        {
          "output_type": "stream",
          "name": "stdout",
          "text": [
            "[0.0, 0.0, 0.0, 0.0, 0.0, 0.0, 0.0, 0.0, 0.0, 0.0, 0.0, 0.0, 0.0, 0.0, 0.0, 0.0, 0.0, 0.0, 0.0, 0.0, 0.0, 0.0, 0.0, 0.0, 0.0, 0.0, 0.0, 0.0, 0.0, 0.0, 0.0, 0.0, 0.0, 0.0, 0.0, 0.0, 0.0, 0.0, 0.0, 0.0, 0.0, 0.0, 0.0, 0.0, 0.0, 0.0, 0.0, 0.0, 0.0, 0.0, 0.0, 0.0, 0.0, 0.0, 0.0, 0.0, 0.0, 0.0, 0.0, 0.0, 0.0, 0.0, 0.0, 0.0, 0.0, 0.0, 0.0, 0.0, 0.0, 0.0, 0.0, 0.0, 0.0, 0.0, 0.0]\n"
          ]
        }
      ]
    },
    {
      "cell_type": "code",
      "metadata": {
        "colab": {
          "base_uri": "https://localhost:8080/"
        },
        "id": "WyDvox5NsIUX",
        "outputId": "377c8d7e-4436-46b5-e384-89b951b349d9"
      },
      "source": [
        "# Evaluate Model\n",
        "Error = sum([(r-y)**2.0 for r,y in zip(Y, yPredicted)])\n",
        "print(\"With Model=\", model, \"Error=\", Error)\n",
        "Errors.append([model, Error])\n",
        "print (\"History w/ Alpha=\", alpha, \"=\")\n",
        "print (Errors)\n",
        "print(\"Next\")\n",
        "for i in range(len(Errors)):\n",
        "  print(\"Iterations=\",i+1,\":=\",Errors[i])"
      ],
      "execution_count": 104,
      "outputs": [
        {
          "output_type": "stream",
          "name": "stdout",
          "text": [
            "With Model= [0, 0] Error= 3611.0\n",
            "History w/ Alpha= 0.01 =\n",
            "[[[0, 0], 3611.0]]\n",
            "Next\n",
            "Iterations= 1 := [[0, 0], 3611.0]\n"
          ]
        }
      ]
    },
    {
      "cell_type": "code",
      "metadata": {
        "colab": {
          "base_uri": "https://localhost:8080/"
        },
        "id": "kPQvxEiisIG3",
        "outputId": "13ef8e64-bef8-4495-ab2c-081d1993f5c5"
      },
      "source": [
        "deltaX0 = 1/len(Y)*sum( [(-2*(r-y)*x[0]) for r,y,x in zip(Y, yPredicted, X)] )\n",
        "deltaX1 = 1/len(Y)*sum( [(-2*(r-y)*x[1]) for r,y,x in zip(Y, yPredicted, X)] )\n",
        "\n",
        "print(deltaX0)\n",
        "print(deltaX1)"
      ],
      "execution_count": 105,
      "outputs": [
        {
          "output_type": "stream",
          "name": "stdout",
          "text": [
            "-10.767999999999999\n",
            "-23.720000000000006\n"
          ]
        }
      ]
    },
    {
      "cell_type": "code",
      "metadata": {
        "colab": {
          "base_uri": "https://localhost:8080/"
        },
        "id": "mZSnije6sH7U",
        "outputId": "ebd7227d-f181-4f2a-89f1-d7324feacfac"
      },
      "source": [
        "model = [model[0]-alpha*deltaX0, model[1]-alpha*deltaX1]\n",
        "print(model)"
      ],
      "execution_count": 106,
      "outputs": [
        {
          "output_type": "stream",
          "name": "stdout",
          "text": [
            "[0.10768, 0.23720000000000008]\n"
          ]
        }
      ]
    },
    {
      "cell_type": "code",
      "metadata": {
        "colab": {
          "base_uri": "https://localhost:8080/",
          "height": 265
        },
        "id": "rlZjWv2msWvq",
        "outputId": "3f2c7146-a8b2-4e05-b904-427e9d4b0d48"
      },
      "source": [
        "#Plot learned model with data\n",
        "dataX1 = [x[1] for x, y in data]\n",
        "plt.plot(dataX1, yPredicted, \"b\")\n",
        "plt.plot(dataX1, Y, \"g+\")\n",
        "plt.show()"
      ],
      "execution_count": 107,
      "outputs": [
        {
          "output_type": "display_data",
          "data": {
            "image/png": "[encoded data removed]",
            "text/plain": [
              "<Figure size 432x288 with 1 Axes>"
            ]
          },
          "metadata": {
            "needs_background": "light"
          }
        }
      ]
    },
    {
      "cell_type": "markdown",
      "metadata": {
        "id": "ZRD82NLp3sGA"
      },
      "source": [
        "**Class**"
      ]
    },
    {
      "cell_type": "code",
      "metadata": {
        "colab": {
          "resources": {
            "http://localhost:8080/nbextensions/google.colab/files.js": {
              "data": "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",
              "ok": true,
              "headers": [
                [
                  "content-type",
                  "application/javascript"
                ]
              ],
              "status": 200,
              "status_text": ""
            }
          },
          "base_uri": "https://localhost:8080/",
          "height": 73
        },
        "id": "aR0C2CpM3v8e",
        "outputId": "f3d9e566-edc2-4121-be7f-7500af97f4c8"
      },
      "source": [
        "from google.colab import files\n",
        "  \n",
        "  \n",
        "uploaded = files.upload()"
      ],
      "execution_count": 108,
      "outputs": [
        {
          "output_type": "display_data",
          "data": {
            "text/html": [
              "\n",
              "     <input type=\"file\" id=\"files-3397b76f-0492-4ce0-9fe0-8988c4ed62ce\" name=\"files[]\" multiple disabled\n",
              "        style=\"border:none\" />\n",
              "     <output id=\"result-3397b76f-0492-4ce0-9fe0-8988c4ed62ce\">\n",
              "      Upload widget is only available when the cell has been executed in the\n",
              "      current browser session. Please rerun this cell to enable.\n",
              "      </output>\n",
              "      <script src=\"/nbextensions/google.colab/files.js\"></script> "
            ],
            "text/plain": [
              "<IPython.core.display.HTML object>"
            ]
          },
          "metadata": {}
        },
        {
          "output_type": "stream",
          "name": "stdout",
          "text": [
            "Saving iris.data.csv to iris.data (1).csv\n"
          ]
        }
      ]
    },
    {
      "cell_type": "code",
      "metadata": {
        "colab": {
          "base_uri": "https://localhost:8080/"
        },
        "id": "UiSOCcqytBnl",
        "outputId": "918577a5-de1d-45c1-f6e0-3c50b176fd9b"
      },
      "source": [
        "\n",
        "import pandas as pd\n",
        "import io\n",
        "  \n",
        "df = pd.read_csv(io.BytesIO(uploaded['iris.data.csv']),dtype={'sepal length in cm':int,\n",
        "                                       'sepal width in cm':int,\n",
        "                                       'petal length in cm':int,\n",
        "                                       'petal width in cm':int,\n",
        "                                       'Class':'S64'},parse_dates=[1])\n",
        "\n",
        "print(df)"
      ],
      "execution_count": 109,
      "outputs": [
        {
          "output_type": "stream",
          "name": "stdout",
          "text": [
            "     5.1  3.5  1.4  0.2     Iris-setosa\n",
            "0    4.9  3.0  1.4  0.2     Iris-setosa\n",
            "1    4.7  3.2  1.3  0.2     Iris-setosa\n",
            "2    4.6  3.1  1.5  0.2     Iris-setosa\n",
            "3    5.0  3.6  1.4  0.2     Iris-setosa\n",
            "4    5.4  3.9  1.7  0.4     Iris-setosa\n",
            "..   ...  ...  ...  ...             ...\n",
            "144  6.7  3.0  5.2  2.3  Iris-virginica\n",
            "145  6.3  2.5  5.0  1.9  Iris-virginica\n",
            "146  6.5  3.0  5.2  2.0  Iris-virginica\n",
            "147  6.2  3.4  5.4  2.3  Iris-virginica\n",
            "148  5.9  3.0  5.1  1.8  Iris-virginica\n",
            "\n",
            "[149 rows x 5 columns]\n"
          ]
        }
      ]
    },
    {
      "cell_type": "code",
      "metadata": {
        "colab": {
          "base_uri": "https://localhost:8080/"
        },
        "id": "lUj0QDgquxg1",
        "outputId": "5919694e-1910-4b70-9cc0-750fd86e5e20"
      },
      "source": [
        "df.info()"
      ],
      "execution_count": 110,
      "outputs": [
        {
          "output_type": "stream",
          "name": "stdout",
          "text": [
            "<class 'pandas.core.frame.DataFrame'>\n",
            "RangeIndex: 149 entries, 0 to 148\n",
            "Data columns (total 5 columns):\n",
            " #   Column       Non-Null Count  Dtype  \n",
            "---  ------       --------------  -----  \n",
            " 0   5.1          149 non-null    float64\n",
            " 1   3.5          149 non-null    object \n",
            " 2   1.4          149 non-null    float64\n",
            " 3   0.2          149 non-null    float64\n",
            " 4   Iris-setosa  149 non-null    object \n",
            "dtypes: float64(3), object(2)\n",
            "memory usage: 5.9+ KB\n"
          ]
        }
      ]
    },
    {
      "cell_type": "code",
      "metadata": {
        "colab": {
          "base_uri": "https://localhost:8080/"
        },
        "id": "YbcwO9a3vNFb",
        "outputId": "1ea3160a-0703-4117-a58c-ad7a9be0bc67"
      },
      "source": [
        "print (df.columns)"
      ],
      "execution_count": 111,
      "outputs": [
        {
          "output_type": "stream",
          "name": "stdout",
          "text": [
            "Index(['5.1', '3.5', '1.4', '0.2', 'Iris-setosa'], dtype='object')\n"
          ]
        }
      ]
    }
  ]
}